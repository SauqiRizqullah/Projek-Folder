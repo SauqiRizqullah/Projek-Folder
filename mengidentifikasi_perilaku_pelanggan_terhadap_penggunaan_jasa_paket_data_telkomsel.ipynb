{
  "cells": [
    {
      "cell_type": "markdown",
      "id": "97c9337c",
      "metadata": {
        "id": "97c9337c"
      },
      "source": [
        "# MENGIDENTIFIKASI PERILAKU PELANGGAN TERHADAP PENGGUNAAN JASA PAKET DATA TELKOMSEL"
      ]
    },
    {
      "cell_type": "code",
      "execution_count": null,
      "id": "24b6547c",
      "metadata": {
        "id": "24b6547c"
      },
      "outputs": [],
      "source": [
        "import matplotlib.pyplot as plt\n",
        "import pandas as pd\n",
        "import numpy as np"
      ]
    },
    {
      "cell_type": "code",
      "execution_count": null,
      "id": "a24f77c6",
      "metadata": {
        "id": "a24f77c6",
        "outputId": "79753b53-2522-4349-eb9e-77a3b4cd7b84"
      },
      "outputs": [
        {
          "data": {
            "text/html": [
              "<div>\n",
              "<style scoped>\n",
              "    .dataframe tbody tr th:only-of-type {\n",
              "        vertical-align: middle;\n",
              "    }\n",
              "\n",
              "    .dataframe tbody tr th {\n",
              "        vertical-align: top;\n",
              "    }\n",
              "\n",
              "    .dataframe thead th {\n",
              "        text-align: right;\n",
              "    }\n",
              "</style>\n",
              "<table border=\"1\" class=\"dataframe\">\n",
              "  <thead>\n",
              "    <tr style=\"text-align: right;\">\n",
              "      <th></th>\n",
              "      <th>CustomerID</th>\n",
              "      <th>Gender</th>\n",
              "      <th>Age</th>\n",
              "      <th>Telco Spending (IDR 000)</th>\n",
              "      <th>Purchasing power (1-100)</th>\n",
              "    </tr>\n",
              "  </thead>\n",
              "  <tbody>\n",
              "    <tr>\n",
              "      <th>0</th>\n",
              "      <td>1</td>\n",
              "      <td>Male</td>\n",
              "      <td>19</td>\n",
              "      <td>15</td>\n",
              "      <td>39</td>\n",
              "    </tr>\n",
              "    <tr>\n",
              "      <th>1</th>\n",
              "      <td>2</td>\n",
              "      <td>Male</td>\n",
              "      <td>21</td>\n",
              "      <td>15</td>\n",
              "      <td>81</td>\n",
              "    </tr>\n",
              "    <tr>\n",
              "      <th>2</th>\n",
              "      <td>3</td>\n",
              "      <td>Female</td>\n",
              "      <td>20</td>\n",
              "      <td>16</td>\n",
              "      <td>6</td>\n",
              "    </tr>\n",
              "    <tr>\n",
              "      <th>3</th>\n",
              "      <td>4</td>\n",
              "      <td>Female</td>\n",
              "      <td>23</td>\n",
              "      <td>16</td>\n",
              "      <td>77</td>\n",
              "    </tr>\n",
              "    <tr>\n",
              "      <th>4</th>\n",
              "      <td>5</td>\n",
              "      <td>Female</td>\n",
              "      <td>31</td>\n",
              "      <td>17</td>\n",
              "      <td>40</td>\n",
              "    </tr>\n",
              "    <tr>\n",
              "      <th>...</th>\n",
              "      <td>...</td>\n",
              "      <td>...</td>\n",
              "      <td>...</td>\n",
              "      <td>...</td>\n",
              "      <td>...</td>\n",
              "    </tr>\n",
              "    <tr>\n",
              "      <th>195</th>\n",
              "      <td>196</td>\n",
              "      <td>Female</td>\n",
              "      <td>35</td>\n",
              "      <td>120</td>\n",
              "      <td>79</td>\n",
              "    </tr>\n",
              "    <tr>\n",
              "      <th>196</th>\n",
              "      <td>197</td>\n",
              "      <td>Female</td>\n",
              "      <td>45</td>\n",
              "      <td>126</td>\n",
              "      <td>28</td>\n",
              "    </tr>\n",
              "    <tr>\n",
              "      <th>197</th>\n",
              "      <td>198</td>\n",
              "      <td>Male</td>\n",
              "      <td>32</td>\n",
              "      <td>126</td>\n",
              "      <td>74</td>\n",
              "    </tr>\n",
              "    <tr>\n",
              "      <th>198</th>\n",
              "      <td>199</td>\n",
              "      <td>Male</td>\n",
              "      <td>32</td>\n",
              "      <td>137</td>\n",
              "      <td>18</td>\n",
              "    </tr>\n",
              "    <tr>\n",
              "      <th>199</th>\n",
              "      <td>200</td>\n",
              "      <td>Male</td>\n",
              "      <td>30</td>\n",
              "      <td>137</td>\n",
              "      <td>83</td>\n",
              "    </tr>\n",
              "  </tbody>\n",
              "</table>\n",
              "<p>200 rows × 5 columns</p>\n",
              "</div>"
            ],
            "text/plain": [
              "     CustomerID  Gender  Age  Telco Spending (IDR 000)  \\\n",
              "0             1    Male   19                        15   \n",
              "1             2    Male   21                        15   \n",
              "2             3  Female   20                        16   \n",
              "3             4  Female   23                        16   \n",
              "4             5  Female   31                        17   \n",
              "..          ...     ...  ...                       ...   \n",
              "195         196  Female   35                       120   \n",
              "196         197  Female   45                       126   \n",
              "197         198    Male   32                       126   \n",
              "198         199    Male   32                       137   \n",
              "199         200    Male   30                       137   \n",
              "\n",
              "     Purchasing power (1-100)  \n",
              "0                          39  \n",
              "1                          81  \n",
              "2                           6  \n",
              "3                          77  \n",
              "4                          40  \n",
              "..                        ...  \n",
              "195                        79  \n",
              "196                        28  \n",
              "197                        74  \n",
              "198                        18  \n",
              "199                        83  \n",
              "\n",
              "[200 rows x 5 columns]"
            ]
          },
          "execution_count": 3,
          "metadata": {},
          "output_type": "execute_result"
        }
      ],
      "source": [
        "df = pd.read_csv('Data untuk use case.csv')\n",
        "df"
      ]
    },
    {
      "cell_type": "markdown",
      "source": [
        "Keterangan:\n",
        "\n",
        "Customer ID: Pelanggan\n",
        "\n",
        "Gender: Jenis Kelamin Pelanggan\n",
        "\n",
        "Age: Umur Pelanggan\n",
        "\n",
        "Telco Spending (IDR 000): Biaya Paket Data Pelanggan Sekali Pembelian (Satuan Ribu)\n",
        "\n",
        "Purchasing Power: Jumlah Pembelian Paket Data oleh Pelanggan"
      ],
      "metadata": {
        "id": "BrTQldUFWbbe"
      },
      "id": "BrTQldUFWbbe"
    },
    {
      "cell_type": "markdown",
      "id": "92361e60",
      "metadata": {
        "id": "92361e60"
      },
      "source": [
        "# Menghitung Nilai Null"
      ]
    },
    {
      "cell_type": "code",
      "execution_count": null,
      "id": "f3e16d24",
      "metadata": {
        "id": "f3e16d24",
        "outputId": "70102442-08d5-4859-c353-d7373aac38d0"
      },
      "outputs": [
        {
          "data": {
            "text/plain": [
              "CustomerID                  0\n",
              "Gender                      0\n",
              "Age                         0\n",
              "Telco Spending (IDR 000)    0\n",
              "Purchasing power (1-100)    0\n",
              "dtype: int64"
            ]
          },
          "execution_count": 4,
          "metadata": {},
          "output_type": "execute_result"
        }
      ],
      "source": [
        "df.isnull().sum()"
      ]
    },
    {
      "cell_type": "markdown",
      "id": "4811e716",
      "metadata": {
        "id": "4811e716"
      },
      "source": [
        "# Mencari Data Pencilan"
      ]
    },
    {
      "cell_type": "code",
      "execution_count": null,
      "id": "8c1bc4b0",
      "metadata": {
        "id": "8c1bc4b0"
      },
      "outputs": [],
      "source": [
        "def get_lower_upper_bound(x):\n",
        "    q1 = np.percentile(x,25)\n",
        "    q3 = np.percentile(x,75)\n",
        "    iqr = q3 - q1\n",
        "    lower_bound = q1 - 1.5*iqr\n",
        "    upper_bound = q3 + 1.5*iqr\n",
        "    return lower_bound, upper_bound"
      ]
    },
    {
      "cell_type": "code",
      "execution_count": null,
      "id": "18442e3d",
      "metadata": {
        "id": "18442e3d"
      },
      "outputs": [],
      "source": [
        "def get_outlier_iqr(x):\n",
        "    lower_bound, upper_bound = get_lower_upper_bound(x)\n",
        "    return x[np.where((x > upper_bound) | (x < lower_bound))]"
      ]
    },
    {
      "cell_type": "code",
      "execution_count": null,
      "id": "8b0c2037",
      "metadata": {
        "id": "8b0c2037",
        "outputId": "14c40551-d891-45a8-d8bd-7150e7fe02fb"
      },
      "outputs": [
        {
          "name": "stdout",
          "output_type": "stream",
          "text": [
            "[]\n",
            "[137 137]\n",
            "[]\n"
          ]
        }
      ],
      "source": [
        "print(get_outlier_iqr(df['Age'].values))\n",
        "print(get_outlier_iqr(df['Telco Spending (IDR 000)'].values))\n",
        "print(get_outlier_iqr(df['Purchasing power (1-100)'].values))\n"
      ]
    },
    {
      "cell_type": "code",
      "execution_count": null,
      "id": "0ae40e08",
      "metadata": {
        "id": "0ae40e08",
        "outputId": "34057ef2-9193-4b73-cc45-f5d501ebebd4"
      },
      "outputs": [
        {
          "data": {
            "text/html": [
              "<div>\n",
              "<style scoped>\n",
              "    .dataframe tbody tr th:only-of-type {\n",
              "        vertical-align: middle;\n",
              "    }\n",
              "\n",
              "    .dataframe tbody tr th {\n",
              "        vertical-align: top;\n",
              "    }\n",
              "\n",
              "    .dataframe thead th {\n",
              "        text-align: right;\n",
              "    }\n",
              "</style>\n",
              "<table border=\"1\" class=\"dataframe\">\n",
              "  <thead>\n",
              "    <tr style=\"text-align: right;\">\n",
              "      <th></th>\n",
              "      <th>CustomerID</th>\n",
              "      <th>Age</th>\n",
              "      <th>Telco Spending (IDR 000)</th>\n",
              "      <th>Purchasing power (1-100)</th>\n",
              "    </tr>\n",
              "  </thead>\n",
              "  <tbody>\n",
              "    <tr>\n",
              "      <th>count</th>\n",
              "      <td>200.000000</td>\n",
              "      <td>200.000000</td>\n",
              "      <td>200.000000</td>\n",
              "      <td>200.000000</td>\n",
              "    </tr>\n",
              "    <tr>\n",
              "      <th>mean</th>\n",
              "      <td>100.500000</td>\n",
              "      <td>38.850000</td>\n",
              "      <td>60.560000</td>\n",
              "      <td>50.200000</td>\n",
              "    </tr>\n",
              "    <tr>\n",
              "      <th>std</th>\n",
              "      <td>57.879185</td>\n",
              "      <td>13.969007</td>\n",
              "      <td>26.264721</td>\n",
              "      <td>25.823522</td>\n",
              "    </tr>\n",
              "    <tr>\n",
              "      <th>min</th>\n",
              "      <td>1.000000</td>\n",
              "      <td>18.000000</td>\n",
              "      <td>15.000000</td>\n",
              "      <td>1.000000</td>\n",
              "    </tr>\n",
              "    <tr>\n",
              "      <th>25%</th>\n",
              "      <td>50.750000</td>\n",
              "      <td>28.750000</td>\n",
              "      <td>41.500000</td>\n",
              "      <td>34.750000</td>\n",
              "    </tr>\n",
              "    <tr>\n",
              "      <th>50%</th>\n",
              "      <td>100.500000</td>\n",
              "      <td>36.000000</td>\n",
              "      <td>61.500000</td>\n",
              "      <td>50.000000</td>\n",
              "    </tr>\n",
              "    <tr>\n",
              "      <th>75%</th>\n",
              "      <td>150.250000</td>\n",
              "      <td>49.000000</td>\n",
              "      <td>78.000000</td>\n",
              "      <td>73.000000</td>\n",
              "    </tr>\n",
              "    <tr>\n",
              "      <th>max</th>\n",
              "      <td>200.000000</td>\n",
              "      <td>70.000000</td>\n",
              "      <td>137.000000</td>\n",
              "      <td>99.000000</td>\n",
              "    </tr>\n",
              "  </tbody>\n",
              "</table>\n",
              "</div>"
            ],
            "text/plain": [
              "       CustomerID         Age  Telco Spending (IDR 000)  \\\n",
              "count  200.000000  200.000000                200.000000   \n",
              "mean   100.500000   38.850000                 60.560000   \n",
              "std     57.879185   13.969007                 26.264721   \n",
              "min      1.000000   18.000000                 15.000000   \n",
              "25%     50.750000   28.750000                 41.500000   \n",
              "50%    100.500000   36.000000                 61.500000   \n",
              "75%    150.250000   49.000000                 78.000000   \n",
              "max    200.000000   70.000000                137.000000   \n",
              "\n",
              "       Purchasing power (1-100)  \n",
              "count                200.000000  \n",
              "mean                  50.200000  \n",
              "std                   25.823522  \n",
              "min                    1.000000  \n",
              "25%                   34.750000  \n",
              "50%                   50.000000  \n",
              "75%                   73.000000  \n",
              "max                   99.000000  "
            ]
          },
          "execution_count": 10,
          "metadata": {},
          "output_type": "execute_result"
        }
      ],
      "source": [
        "df.describe()"
      ]
    },
    {
      "cell_type": "code",
      "execution_count": null,
      "id": "57462add",
      "metadata": {
        "id": "57462add",
        "outputId": "de65bd6b-e158-4c9a-e07a-c6def770221b"
      },
      "outputs": [
        {
          "data": {
            "text/html": [
              "<div>\n",
              "<style scoped>\n",
              "    .dataframe tbody tr th:only-of-type {\n",
              "        vertical-align: middle;\n",
              "    }\n",
              "\n",
              "    .dataframe tbody tr th {\n",
              "        vertical-align: top;\n",
              "    }\n",
              "\n",
              "    .dataframe thead th {\n",
              "        text-align: right;\n",
              "    }\n",
              "</style>\n",
              "<table border=\"1\" class=\"dataframe\">\n",
              "  <thead>\n",
              "    <tr style=\"text-align: right;\">\n",
              "      <th></th>\n",
              "      <th>CustomerID</th>\n",
              "      <th>Gender</th>\n",
              "      <th>Age</th>\n",
              "      <th>Telco Spending (IDR 000)</th>\n",
              "      <th>Purchasing power (1-100)</th>\n",
              "    </tr>\n",
              "  </thead>\n",
              "  <tbody>\n",
              "    <tr>\n",
              "      <th>198</th>\n",
              "      <td>199</td>\n",
              "      <td>Male</td>\n",
              "      <td>32</td>\n",
              "      <td>137</td>\n",
              "      <td>18</td>\n",
              "    </tr>\n",
              "    <tr>\n",
              "      <th>199</th>\n",
              "      <td>200</td>\n",
              "      <td>Male</td>\n",
              "      <td>30</td>\n",
              "      <td>137</td>\n",
              "      <td>83</td>\n",
              "    </tr>\n",
              "    <tr>\n",
              "      <th>196</th>\n",
              "      <td>197</td>\n",
              "      <td>Female</td>\n",
              "      <td>45</td>\n",
              "      <td>126</td>\n",
              "      <td>28</td>\n",
              "    </tr>\n",
              "    <tr>\n",
              "      <th>197</th>\n",
              "      <td>198</td>\n",
              "      <td>Male</td>\n",
              "      <td>32</td>\n",
              "      <td>126</td>\n",
              "      <td>74</td>\n",
              "    </tr>\n",
              "    <tr>\n",
              "      <th>194</th>\n",
              "      <td>195</td>\n",
              "      <td>Female</td>\n",
              "      <td>47</td>\n",
              "      <td>120</td>\n",
              "      <td>16</td>\n",
              "    </tr>\n",
              "    <tr>\n",
              "      <th>...</th>\n",
              "      <td>...</td>\n",
              "      <td>...</td>\n",
              "      <td>...</td>\n",
              "      <td>...</td>\n",
              "      <td>...</td>\n",
              "    </tr>\n",
              "    <tr>\n",
              "      <th>5</th>\n",
              "      <td>6</td>\n",
              "      <td>Female</td>\n",
              "      <td>22</td>\n",
              "      <td>17</td>\n",
              "      <td>76</td>\n",
              "    </tr>\n",
              "    <tr>\n",
              "      <th>3</th>\n",
              "      <td>4</td>\n",
              "      <td>Female</td>\n",
              "      <td>23</td>\n",
              "      <td>16</td>\n",
              "      <td>77</td>\n",
              "    </tr>\n",
              "    <tr>\n",
              "      <th>2</th>\n",
              "      <td>3</td>\n",
              "      <td>Female</td>\n",
              "      <td>20</td>\n",
              "      <td>16</td>\n",
              "      <td>6</td>\n",
              "    </tr>\n",
              "    <tr>\n",
              "      <th>1</th>\n",
              "      <td>2</td>\n",
              "      <td>Male</td>\n",
              "      <td>21</td>\n",
              "      <td>15</td>\n",
              "      <td>81</td>\n",
              "    </tr>\n",
              "    <tr>\n",
              "      <th>0</th>\n",
              "      <td>1</td>\n",
              "      <td>Male</td>\n",
              "      <td>19</td>\n",
              "      <td>15</td>\n",
              "      <td>39</td>\n",
              "    </tr>\n",
              "  </tbody>\n",
              "</table>\n",
              "<p>200 rows × 5 columns</p>\n",
              "</div>"
            ],
            "text/plain": [
              "     CustomerID  Gender  Age  Telco Spending (IDR 000)  \\\n",
              "198         199    Male   32                       137   \n",
              "199         200    Male   30                       137   \n",
              "196         197  Female   45                       126   \n",
              "197         198    Male   32                       126   \n",
              "194         195  Female   47                       120   \n",
              "..          ...     ...  ...                       ...   \n",
              "5             6  Female   22                        17   \n",
              "3             4  Female   23                        16   \n",
              "2             3  Female   20                        16   \n",
              "1             2    Male   21                        15   \n",
              "0             1    Male   19                        15   \n",
              "\n",
              "     Purchasing power (1-100)  \n",
              "198                        18  \n",
              "199                        83  \n",
              "196                        28  \n",
              "197                        74  \n",
              "194                        16  \n",
              "..                        ...  \n",
              "5                          76  \n",
              "3                          77  \n",
              "2                           6  \n",
              "1                          81  \n",
              "0                          39  \n",
              "\n",
              "[200 rows x 5 columns]"
            ]
          },
          "execution_count": 11,
          "metadata": {},
          "output_type": "execute_result"
        }
      ],
      "source": [
        "df.sort_values(by=['Telco Spending (IDR 000)', 'Age', 'Purchasing power (1-100)'], ascending = [False,False,False])"
      ]
    },
    {
      "cell_type": "code",
      "execution_count": null,
      "id": "9dc4b8eb",
      "metadata": {
        "id": "9dc4b8eb"
      },
      "outputs": [],
      "source": [
        "import seaborn as sns"
      ]
    },
    {
      "cell_type": "code",
      "execution_count": null,
      "id": "58e1f5dc",
      "metadata": {
        "id": "58e1f5dc",
        "outputId": "9ccbb40b-acee-464d-fedc-9f7dd62501b6"
      },
      "outputs": [
        {
          "data": {
            "text/plain": [
              "<AxesSubplot:xlabel='Telco Spending (IDR 000)'>"
            ]
          },
          "execution_count": 15,
          "metadata": {},
          "output_type": "execute_result"
        },
        {
          "data": {
            "image/png": "[encoded data removed]",
            "text/plain": [
              "<Figure size 432x288 with 1 Axes>"
            ]
          },
          "metadata": {
            "needs_background": "light"
          },
          "output_type": "display_data"
        }
      ],
      "source": [
        "sns.boxplot(x='Telco Spending (IDR 000)', data=df)"
      ]
    },
    {
      "cell_type": "code",
      "execution_count": null,
      "id": "3a8a18b8",
      "metadata": {
        "id": "3a8a18b8",
        "outputId": "b948c731-0c6c-4d45-87c5-3747bb3dbc14"
      },
      "outputs": [
        {
          "data": {
            "text/html": [
              "<div>\n",
              "<style scoped>\n",
              "    .dataframe tbody tr th:only-of-type {\n",
              "        vertical-align: middle;\n",
              "    }\n",
              "\n",
              "    .dataframe tbody tr th {\n",
              "        vertical-align: top;\n",
              "    }\n",
              "\n",
              "    .dataframe thead th {\n",
              "        text-align: right;\n",
              "    }\n",
              "</style>\n",
              "<table border=\"1\" class=\"dataframe\">\n",
              "  <thead>\n",
              "    <tr style=\"text-align: right;\">\n",
              "      <th></th>\n",
              "      <th>CustomerID</th>\n",
              "      <th>Gender</th>\n",
              "      <th>Age</th>\n",
              "      <th>Telco Spending (IDR 000)</th>\n",
              "      <th>Purchasing power (1-100)</th>\n",
              "    </tr>\n",
              "  </thead>\n",
              "  <tbody>\n",
              "    <tr>\n",
              "      <th>199</th>\n",
              "      <td>200</td>\n",
              "      <td>Male</td>\n",
              "      <td>30</td>\n",
              "      <td>137</td>\n",
              "      <td>83</td>\n",
              "    </tr>\n",
              "    <tr>\n",
              "      <th>198</th>\n",
              "      <td>199</td>\n",
              "      <td>Male</td>\n",
              "      <td>32</td>\n",
              "      <td>137</td>\n",
              "      <td>18</td>\n",
              "    </tr>\n",
              "    <tr>\n",
              "      <th>197</th>\n",
              "      <td>198</td>\n",
              "      <td>Male</td>\n",
              "      <td>32</td>\n",
              "      <td>126</td>\n",
              "      <td>74</td>\n",
              "    </tr>\n",
              "    <tr>\n",
              "      <th>196</th>\n",
              "      <td>197</td>\n",
              "      <td>Female</td>\n",
              "      <td>45</td>\n",
              "      <td>126</td>\n",
              "      <td>28</td>\n",
              "    </tr>\n",
              "    <tr>\n",
              "      <th>195</th>\n",
              "      <td>196</td>\n",
              "      <td>Female</td>\n",
              "      <td>35</td>\n",
              "      <td>120</td>\n",
              "      <td>79</td>\n",
              "    </tr>\n",
              "    <tr>\n",
              "      <th>...</th>\n",
              "      <td>...</td>\n",
              "      <td>...</td>\n",
              "      <td>...</td>\n",
              "      <td>...</td>\n",
              "      <td>...</td>\n",
              "    </tr>\n",
              "    <tr>\n",
              "      <th>4</th>\n",
              "      <td>5</td>\n",
              "      <td>Female</td>\n",
              "      <td>31</td>\n",
              "      <td>17</td>\n",
              "      <td>40</td>\n",
              "    </tr>\n",
              "    <tr>\n",
              "      <th>3</th>\n",
              "      <td>4</td>\n",
              "      <td>Female</td>\n",
              "      <td>23</td>\n",
              "      <td>16</td>\n",
              "      <td>77</td>\n",
              "    </tr>\n",
              "    <tr>\n",
              "      <th>2</th>\n",
              "      <td>3</td>\n",
              "      <td>Female</td>\n",
              "      <td>20</td>\n",
              "      <td>16</td>\n",
              "      <td>6</td>\n",
              "    </tr>\n",
              "    <tr>\n",
              "      <th>1</th>\n",
              "      <td>2</td>\n",
              "      <td>Male</td>\n",
              "      <td>21</td>\n",
              "      <td>15</td>\n",
              "      <td>81</td>\n",
              "    </tr>\n",
              "    <tr>\n",
              "      <th>0</th>\n",
              "      <td>1</td>\n",
              "      <td>Male</td>\n",
              "      <td>19</td>\n",
              "      <td>15</td>\n",
              "      <td>39</td>\n",
              "    </tr>\n",
              "  </tbody>\n",
              "</table>\n",
              "<p>200 rows × 5 columns</p>\n",
              "</div>"
            ],
            "text/plain": [
              "     CustomerID  Gender  Age  Telco Spending (IDR 000)  \\\n",
              "199         200    Male   30                       137   \n",
              "198         199    Male   32                       137   \n",
              "197         198    Male   32                       126   \n",
              "196         197  Female   45                       126   \n",
              "195         196  Female   35                       120   \n",
              "..          ...     ...  ...                       ...   \n",
              "4             5  Female   31                        17   \n",
              "3             4  Female   23                        16   \n",
              "2             3  Female   20                        16   \n",
              "1             2    Male   21                        15   \n",
              "0             1    Male   19                        15   \n",
              "\n",
              "     Purchasing power (1-100)  \n",
              "199                        83  \n",
              "198                        18  \n",
              "197                        74  \n",
              "196                        28  \n",
              "195                        79  \n",
              "..                        ...  \n",
              "4                          40  \n",
              "3                          77  \n",
              "2                           6  \n",
              "1                          81  \n",
              "0                          39  \n",
              "\n",
              "[200 rows x 5 columns]"
            ]
          },
          "execution_count": 16,
          "metadata": {},
          "output_type": "execute_result"
        }
      ],
      "source": [
        "df.sort_values(by=['CustomerID'], ascending = [False])"
      ]
    },
    {
      "cell_type": "markdown",
      "id": "88c44158",
      "metadata": {
        "id": "88c44158"
      },
      "source": [
        "# Menghilangkan Data Pencilan"
      ]
    },
    {
      "cell_type": "code",
      "execution_count": null,
      "id": "f73a197a",
      "metadata": {
        "id": "f73a197a"
      },
      "outputs": [],
      "source": [
        "def remove_outlier_IQR(x):\n",
        "    Q1 = df.quantile(0.25)\n",
        "    Q3 = df.quantile(0.75)\n",
        "    IQR = Q3 - Q1\n",
        "    df_final= df[~((df<(Q1 - 1.5*IQR)) | (df>(Q3 + 1.5*IQR)))]\n",
        "    return df_final"
      ]
    },
    {
      "cell_type": "code",
      "execution_count": null,
      "id": "9e673f83",
      "metadata": {
        "id": "9e673f83",
        "outputId": "3755135e-ca7c-4648-db8f-3f0bb5699c4d"
      },
      "outputs": [
        {
          "name": "stderr",
          "output_type": "stream",
          "text": [
            "C:\\Users\\USER\\AppData\\Local\\Temp\\ipykernel_2240\\3007848947.py:5: FutureWarning: Automatic reindexing on DataFrame vs Series comparisons is deprecated and will raise ValueError in a future version. Do `left, right = left.align(right, axis=1, copy=False)` before e.g. `left == right`\n",
            "  df_final= df[~((df<(Q1 - 1.5*IQR)) | (df>(Q3 + 1.5*IQR)))]\n"
          ]
        }
      ],
      "source": [
        "df_new = remove_outlier_IQR(df)"
      ]
    },
    {
      "cell_type": "code",
      "execution_count": null,
      "id": "5c77d00e",
      "metadata": {
        "id": "5c77d00e",
        "outputId": "d7c7f857-9476-4797-a51b-66044d77c042"
      },
      "outputs": [
        {
          "data": {
            "text/html": [
              "<div>\n",
              "<style scoped>\n",
              "    .dataframe tbody tr th:only-of-type {\n",
              "        vertical-align: middle;\n",
              "    }\n",
              "\n",
              "    .dataframe tbody tr th {\n",
              "        vertical-align: top;\n",
              "    }\n",
              "\n",
              "    .dataframe thead th {\n",
              "        text-align: right;\n",
              "    }\n",
              "</style>\n",
              "<table border=\"1\" class=\"dataframe\">\n",
              "  <thead>\n",
              "    <tr style=\"text-align: right;\">\n",
              "      <th></th>\n",
              "      <th>CustomerID</th>\n",
              "      <th>Gender</th>\n",
              "      <th>Age</th>\n",
              "      <th>Telco Spending (IDR 000)</th>\n",
              "      <th>Purchasing power (1-100)</th>\n",
              "    </tr>\n",
              "  </thead>\n",
              "  <tbody>\n",
              "    <tr>\n",
              "      <th>0</th>\n",
              "      <td>1</td>\n",
              "      <td>Male</td>\n",
              "      <td>19</td>\n",
              "      <td>15.0</td>\n",
              "      <td>39</td>\n",
              "    </tr>\n",
              "    <tr>\n",
              "      <th>1</th>\n",
              "      <td>2</td>\n",
              "      <td>Male</td>\n",
              "      <td>21</td>\n",
              "      <td>15.0</td>\n",
              "      <td>81</td>\n",
              "    </tr>\n",
              "    <tr>\n",
              "      <th>2</th>\n",
              "      <td>3</td>\n",
              "      <td>Female</td>\n",
              "      <td>20</td>\n",
              "      <td>16.0</td>\n",
              "      <td>6</td>\n",
              "    </tr>\n",
              "    <tr>\n",
              "      <th>3</th>\n",
              "      <td>4</td>\n",
              "      <td>Female</td>\n",
              "      <td>23</td>\n",
              "      <td>16.0</td>\n",
              "      <td>77</td>\n",
              "    </tr>\n",
              "    <tr>\n",
              "      <th>4</th>\n",
              "      <td>5</td>\n",
              "      <td>Female</td>\n",
              "      <td>31</td>\n",
              "      <td>17.0</td>\n",
              "      <td>40</td>\n",
              "    </tr>\n",
              "    <tr>\n",
              "      <th>...</th>\n",
              "      <td>...</td>\n",
              "      <td>...</td>\n",
              "      <td>...</td>\n",
              "      <td>...</td>\n",
              "      <td>...</td>\n",
              "    </tr>\n",
              "    <tr>\n",
              "      <th>195</th>\n",
              "      <td>196</td>\n",
              "      <td>Female</td>\n",
              "      <td>35</td>\n",
              "      <td>120.0</td>\n",
              "      <td>79</td>\n",
              "    </tr>\n",
              "    <tr>\n",
              "      <th>196</th>\n",
              "      <td>197</td>\n",
              "      <td>Female</td>\n",
              "      <td>45</td>\n",
              "      <td>126.0</td>\n",
              "      <td>28</td>\n",
              "    </tr>\n",
              "    <tr>\n",
              "      <th>197</th>\n",
              "      <td>198</td>\n",
              "      <td>Male</td>\n",
              "      <td>32</td>\n",
              "      <td>126.0</td>\n",
              "      <td>74</td>\n",
              "    </tr>\n",
              "    <tr>\n",
              "      <th>198</th>\n",
              "      <td>199</td>\n",
              "      <td>Male</td>\n",
              "      <td>32</td>\n",
              "      <td>NaN</td>\n",
              "      <td>18</td>\n",
              "    </tr>\n",
              "    <tr>\n",
              "      <th>199</th>\n",
              "      <td>200</td>\n",
              "      <td>Male</td>\n",
              "      <td>30</td>\n",
              "      <td>NaN</td>\n",
              "      <td>83</td>\n",
              "    </tr>\n",
              "  </tbody>\n",
              "</table>\n",
              "<p>200 rows × 5 columns</p>\n",
              "</div>"
            ],
            "text/plain": [
              "     CustomerID  Gender  Age  Telco Spending (IDR 000)  \\\n",
              "0             1    Male   19                      15.0   \n",
              "1             2    Male   21                      15.0   \n",
              "2             3  Female   20                      16.0   \n",
              "3             4  Female   23                      16.0   \n",
              "4             5  Female   31                      17.0   \n",
              "..          ...     ...  ...                       ...   \n",
              "195         196  Female   35                     120.0   \n",
              "196         197  Female   45                     126.0   \n",
              "197         198    Male   32                     126.0   \n",
              "198         199    Male   32                       NaN   \n",
              "199         200    Male   30                       NaN   \n",
              "\n",
              "     Purchasing power (1-100)  \n",
              "0                          39  \n",
              "1                          81  \n",
              "2                           6  \n",
              "3                          77  \n",
              "4                          40  \n",
              "..                        ...  \n",
              "195                        79  \n",
              "196                        28  \n",
              "197                        74  \n",
              "198                        18  \n",
              "199                        83  \n",
              "\n",
              "[200 rows x 5 columns]"
            ]
          },
          "execution_count": 19,
          "metadata": {},
          "output_type": "execute_result"
        }
      ],
      "source": [
        "df_new"
      ]
    },
    {
      "cell_type": "code",
      "execution_count": null,
      "id": "15ef9dc2",
      "metadata": {
        "id": "15ef9dc2"
      },
      "outputs": [],
      "source": [
        "df_new.fillna(method ='ffill', inplace=True)"
      ]
    },
    {
      "cell_type": "code",
      "execution_count": null,
      "id": "901c5294",
      "metadata": {
        "id": "901c5294",
        "outputId": "b6877d03-cc3b-4423-f730-70308c084d94"
      },
      "outputs": [
        {
          "data": {
            "text/html": [
              "<div>\n",
              "<style scoped>\n",
              "    .dataframe tbody tr th:only-of-type {\n",
              "        vertical-align: middle;\n",
              "    }\n",
              "\n",
              "    .dataframe tbody tr th {\n",
              "        vertical-align: top;\n",
              "    }\n",
              "\n",
              "    .dataframe thead th {\n",
              "        text-align: right;\n",
              "    }\n",
              "</style>\n",
              "<table border=\"1\" class=\"dataframe\">\n",
              "  <thead>\n",
              "    <tr style=\"text-align: right;\">\n",
              "      <th></th>\n",
              "      <th>CustomerID</th>\n",
              "      <th>Gender</th>\n",
              "      <th>Age</th>\n",
              "      <th>Telco Spending (IDR 000)</th>\n",
              "      <th>Purchasing power (1-100)</th>\n",
              "    </tr>\n",
              "  </thead>\n",
              "  <tbody>\n",
              "    <tr>\n",
              "      <th>0</th>\n",
              "      <td>1</td>\n",
              "      <td>Male</td>\n",
              "      <td>19</td>\n",
              "      <td>15.0</td>\n",
              "      <td>39</td>\n",
              "    </tr>\n",
              "    <tr>\n",
              "      <th>1</th>\n",
              "      <td>2</td>\n",
              "      <td>Male</td>\n",
              "      <td>21</td>\n",
              "      <td>15.0</td>\n",
              "      <td>81</td>\n",
              "    </tr>\n",
              "    <tr>\n",
              "      <th>2</th>\n",
              "      <td>3</td>\n",
              "      <td>Female</td>\n",
              "      <td>20</td>\n",
              "      <td>16.0</td>\n",
              "      <td>6</td>\n",
              "    </tr>\n",
              "    <tr>\n",
              "      <th>3</th>\n",
              "      <td>4</td>\n",
              "      <td>Female</td>\n",
              "      <td>23</td>\n",
              "      <td>16.0</td>\n",
              "      <td>77</td>\n",
              "    </tr>\n",
              "    <tr>\n",
              "      <th>4</th>\n",
              "      <td>5</td>\n",
              "      <td>Female</td>\n",
              "      <td>31</td>\n",
              "      <td>17.0</td>\n",
              "      <td>40</td>\n",
              "    </tr>\n",
              "    <tr>\n",
              "      <th>...</th>\n",
              "      <td>...</td>\n",
              "      <td>...</td>\n",
              "      <td>...</td>\n",
              "      <td>...</td>\n",
              "      <td>...</td>\n",
              "    </tr>\n",
              "    <tr>\n",
              "      <th>195</th>\n",
              "      <td>196</td>\n",
              "      <td>Female</td>\n",
              "      <td>35</td>\n",
              "      <td>120.0</td>\n",
              "      <td>79</td>\n",
              "    </tr>\n",
              "    <tr>\n",
              "      <th>196</th>\n",
              "      <td>197</td>\n",
              "      <td>Female</td>\n",
              "      <td>45</td>\n",
              "      <td>126.0</td>\n",
              "      <td>28</td>\n",
              "    </tr>\n",
              "    <tr>\n",
              "      <th>197</th>\n",
              "      <td>198</td>\n",
              "      <td>Male</td>\n",
              "      <td>32</td>\n",
              "      <td>126.0</td>\n",
              "      <td>74</td>\n",
              "    </tr>\n",
              "    <tr>\n",
              "      <th>198</th>\n",
              "      <td>199</td>\n",
              "      <td>Male</td>\n",
              "      <td>32</td>\n",
              "      <td>126.0</td>\n",
              "      <td>18</td>\n",
              "    </tr>\n",
              "    <tr>\n",
              "      <th>199</th>\n",
              "      <td>200</td>\n",
              "      <td>Male</td>\n",
              "      <td>30</td>\n",
              "      <td>126.0</td>\n",
              "      <td>83</td>\n",
              "    </tr>\n",
              "  </tbody>\n",
              "</table>\n",
              "<p>200 rows × 5 columns</p>\n",
              "</div>"
            ],
            "text/plain": [
              "     CustomerID  Gender  Age  Telco Spending (IDR 000)  \\\n",
              "0             1    Male   19                      15.0   \n",
              "1             2    Male   21                      15.0   \n",
              "2             3  Female   20                      16.0   \n",
              "3             4  Female   23                      16.0   \n",
              "4             5  Female   31                      17.0   \n",
              "..          ...     ...  ...                       ...   \n",
              "195         196  Female   35                     120.0   \n",
              "196         197  Female   45                     126.0   \n",
              "197         198    Male   32                     126.0   \n",
              "198         199    Male   32                     126.0   \n",
              "199         200    Male   30                     126.0   \n",
              "\n",
              "     Purchasing power (1-100)  \n",
              "0                          39  \n",
              "1                          81  \n",
              "2                           6  \n",
              "3                          77  \n",
              "4                          40  \n",
              "..                        ...  \n",
              "195                        79  \n",
              "196                        28  \n",
              "197                        74  \n",
              "198                        18  \n",
              "199                        83  \n",
              "\n",
              "[200 rows x 5 columns]"
            ]
          },
          "execution_count": 21,
          "metadata": {},
          "output_type": "execute_result"
        }
      ],
      "source": [
        "df_new"
      ]
    },
    {
      "cell_type": "code",
      "execution_count": null,
      "id": "397749c4",
      "metadata": {
        "id": "397749c4",
        "outputId": "626dc5cc-f916-42f6-b0e5-541ab68ca802"
      },
      "outputs": [
        {
          "data": {
            "text/plain": [
              "<AxesSubplot:xlabel='Telco Spending (IDR 000)'>"
            ]
          },
          "execution_count": 22,
          "metadata": {},
          "output_type": "execute_result"
        },
        {
          "data": {
            "image/png": "[encoded data removed]",
            "text/plain": [
              "<Figure size 432x288 with 1 Axes>"
            ]
          },
          "metadata": {
            "needs_background": "light"
          },
          "output_type": "display_data"
        }
      ],
      "source": [
        "sns.boxplot(x='Telco Spending (IDR 000)', data=df_new)"
      ]
    },
    {
      "cell_type": "code",
      "execution_count": null,
      "id": "69f72ca6",
      "metadata": {
        "id": "69f72ca6",
        "outputId": "0b7a0cf4-8007-4943-e88e-257071b5f98a"
      },
      "outputs": [
        {
          "name": "stdout",
          "output_type": "stream",
          "text": [
            "[]\n",
            "[]\n",
            "[]\n"
          ]
        }
      ],
      "source": [
        "print(get_outlier_iqr(df_new['Age'].values))\n",
        "print(get_outlier_iqr(df_new['Telco Spending (IDR 000)'].values))\n",
        "print(get_outlier_iqr(df_new['Purchasing power (1-100)'].values))"
      ]
    },
    {
      "cell_type": "code",
      "execution_count": null,
      "id": "c0b78464",
      "metadata": {
        "id": "c0b78464"
      },
      "outputs": [],
      "source": [
        "def modify_nilai(telco, purchase):\n",
        "    nilai = telco/purchase\n",
        "    return nilai"
      ]
    },
    {
      "cell_type": "code",
      "execution_count": null,
      "id": "ea0ed92b",
      "metadata": {
        "id": "ea0ed92b"
      },
      "outputs": [],
      "source": [
        "df_new[\"Telco Spending/Purchasing Power\"] = df_new.apply(lambda x: modify_nilai(x[\"Telco Spending (IDR 000)\"], x[\"Purchasing power (1-100)\"]), axis=1)"
      ]
    },
    {
      "cell_type": "code",
      "execution_count": null,
      "id": "b5dcbf10",
      "metadata": {
        "id": "b5dcbf10",
        "outputId": "29fa4e50-f605-483b-9f7d-1b1d15c0550c"
      },
      "outputs": [
        {
          "data": {
            "text/html": [
              "<div>\n",
              "<style scoped>\n",
              "    .dataframe tbody tr th:only-of-type {\n",
              "        vertical-align: middle;\n",
              "    }\n",
              "\n",
              "    .dataframe tbody tr th {\n",
              "        vertical-align: top;\n",
              "    }\n",
              "\n",
              "    .dataframe thead th {\n",
              "        text-align: right;\n",
              "    }\n",
              "</style>\n",
              "<table border=\"1\" class=\"dataframe\">\n",
              "  <thead>\n",
              "    <tr style=\"text-align: right;\">\n",
              "      <th></th>\n",
              "      <th>CustomerID</th>\n",
              "      <th>Gender</th>\n",
              "      <th>Age</th>\n",
              "      <th>Telco Spending (IDR 000)</th>\n",
              "      <th>Purchasing power (1-100)</th>\n",
              "      <th>Telco Spending/Purchasing Power</th>\n",
              "    </tr>\n",
              "  </thead>\n",
              "  <tbody>\n",
              "    <tr>\n",
              "      <th>0</th>\n",
              "      <td>1</td>\n",
              "      <td>Male</td>\n",
              "      <td>19</td>\n",
              "      <td>15.0</td>\n",
              "      <td>39</td>\n",
              "      <td>0.384615</td>\n",
              "    </tr>\n",
              "    <tr>\n",
              "      <th>1</th>\n",
              "      <td>2</td>\n",
              "      <td>Male</td>\n",
              "      <td>21</td>\n",
              "      <td>15.0</td>\n",
              "      <td>81</td>\n",
              "      <td>0.185185</td>\n",
              "    </tr>\n",
              "    <tr>\n",
              "      <th>2</th>\n",
              "      <td>3</td>\n",
              "      <td>Female</td>\n",
              "      <td>20</td>\n",
              "      <td>16.0</td>\n",
              "      <td>6</td>\n",
              "      <td>2.666667</td>\n",
              "    </tr>\n",
              "    <tr>\n",
              "      <th>3</th>\n",
              "      <td>4</td>\n",
              "      <td>Female</td>\n",
              "      <td>23</td>\n",
              "      <td>16.0</td>\n",
              "      <td>77</td>\n",
              "      <td>0.207792</td>\n",
              "    </tr>\n",
              "    <tr>\n",
              "      <th>4</th>\n",
              "      <td>5</td>\n",
              "      <td>Female</td>\n",
              "      <td>31</td>\n",
              "      <td>17.0</td>\n",
              "      <td>40</td>\n",
              "      <td>0.425000</td>\n",
              "    </tr>\n",
              "    <tr>\n",
              "      <th>...</th>\n",
              "      <td>...</td>\n",
              "      <td>...</td>\n",
              "      <td>...</td>\n",
              "      <td>...</td>\n",
              "      <td>...</td>\n",
              "      <td>...</td>\n",
              "    </tr>\n",
              "    <tr>\n",
              "      <th>195</th>\n",
              "      <td>196</td>\n",
              "      <td>Female</td>\n",
              "      <td>35</td>\n",
              "      <td>120.0</td>\n",
              "      <td>79</td>\n",
              "      <td>1.518987</td>\n",
              "    </tr>\n",
              "    <tr>\n",
              "      <th>196</th>\n",
              "      <td>197</td>\n",
              "      <td>Female</td>\n",
              "      <td>45</td>\n",
              "      <td>126.0</td>\n",
              "      <td>28</td>\n",
              "      <td>4.500000</td>\n",
              "    </tr>\n",
              "    <tr>\n",
              "      <th>197</th>\n",
              "      <td>198</td>\n",
              "      <td>Male</td>\n",
              "      <td>32</td>\n",
              "      <td>126.0</td>\n",
              "      <td>74</td>\n",
              "      <td>1.702703</td>\n",
              "    </tr>\n",
              "    <tr>\n",
              "      <th>198</th>\n",
              "      <td>199</td>\n",
              "      <td>Male</td>\n",
              "      <td>32</td>\n",
              "      <td>126.0</td>\n",
              "      <td>18</td>\n",
              "      <td>7.000000</td>\n",
              "    </tr>\n",
              "    <tr>\n",
              "      <th>199</th>\n",
              "      <td>200</td>\n",
              "      <td>Male</td>\n",
              "      <td>30</td>\n",
              "      <td>126.0</td>\n",
              "      <td>83</td>\n",
              "      <td>1.518072</td>\n",
              "    </tr>\n",
              "  </tbody>\n",
              "</table>\n",
              "<p>200 rows × 6 columns</p>\n",
              "</div>"
            ],
            "text/plain": [
              "     CustomerID  Gender  Age  Telco Spending (IDR 000)  \\\n",
              "0             1    Male   19                      15.0   \n",
              "1             2    Male   21                      15.0   \n",
              "2             3  Female   20                      16.0   \n",
              "3             4  Female   23                      16.0   \n",
              "4             5  Female   31                      17.0   \n",
              "..          ...     ...  ...                       ...   \n",
              "195         196  Female   35                     120.0   \n",
              "196         197  Female   45                     126.0   \n",
              "197         198    Male   32                     126.0   \n",
              "198         199    Male   32                     126.0   \n",
              "199         200    Male   30                     126.0   \n",
              "\n",
              "     Purchasing power (1-100)  Telco Spending/Purchasing Power  \n",
              "0                          39                         0.384615  \n",
              "1                          81                         0.185185  \n",
              "2                           6                         2.666667  \n",
              "3                          77                         0.207792  \n",
              "4                          40                         0.425000  \n",
              "..                        ...                              ...  \n",
              "195                        79                         1.518987  \n",
              "196                        28                         4.500000  \n",
              "197                        74                         1.702703  \n",
              "198                        18                         7.000000  \n",
              "199                        83                         1.518072  \n",
              "\n",
              "[200 rows x 6 columns]"
            ]
          },
          "execution_count": 26,
          "metadata": {},
          "output_type": "execute_result"
        }
      ],
      "source": [
        "df_new"
      ]
    },
    {
      "cell_type": "code",
      "execution_count": null,
      "id": "c0d504e4",
      "metadata": {
        "id": "c0d504e4"
      },
      "outputs": [],
      "source": [
        "df = df_new.drop(columns=['CustomerID', 'Gender', 'Age', 'Telco Spending/Purchasing Power'])"
      ]
    },
    {
      "cell_type": "code",
      "execution_count": null,
      "id": "c97d4c65",
      "metadata": {
        "id": "c97d4c65",
        "outputId": "42125779-861e-4b70-b1a3-b4493c466e25"
      },
      "outputs": [
        {
          "data": {
            "text/html": [
              "<div>\n",
              "<style scoped>\n",
              "    .dataframe tbody tr th:only-of-type {\n",
              "        vertical-align: middle;\n",
              "    }\n",
              "\n",
              "    .dataframe tbody tr th {\n",
              "        vertical-align: top;\n",
              "    }\n",
              "\n",
              "    .dataframe thead th {\n",
              "        text-align: right;\n",
              "    }\n",
              "</style>\n",
              "<table border=\"1\" class=\"dataframe\">\n",
              "  <thead>\n",
              "    <tr style=\"text-align: right;\">\n",
              "      <th></th>\n",
              "      <th>Telco Spending (IDR 000)</th>\n",
              "      <th>Purchasing power (1-100)</th>\n",
              "    </tr>\n",
              "  </thead>\n",
              "  <tbody>\n",
              "    <tr>\n",
              "      <th>0</th>\n",
              "      <td>15.0</td>\n",
              "      <td>39</td>\n",
              "    </tr>\n",
              "    <tr>\n",
              "      <th>1</th>\n",
              "      <td>15.0</td>\n",
              "      <td>81</td>\n",
              "    </tr>\n",
              "    <tr>\n",
              "      <th>2</th>\n",
              "      <td>16.0</td>\n",
              "      <td>6</td>\n",
              "    </tr>\n",
              "    <tr>\n",
              "      <th>3</th>\n",
              "      <td>16.0</td>\n",
              "      <td>77</td>\n",
              "    </tr>\n",
              "    <tr>\n",
              "      <th>4</th>\n",
              "      <td>17.0</td>\n",
              "      <td>40</td>\n",
              "    </tr>\n",
              "    <tr>\n",
              "      <th>...</th>\n",
              "      <td>...</td>\n",
              "      <td>...</td>\n",
              "    </tr>\n",
              "    <tr>\n",
              "      <th>195</th>\n",
              "      <td>120.0</td>\n",
              "      <td>79</td>\n",
              "    </tr>\n",
              "    <tr>\n",
              "      <th>196</th>\n",
              "      <td>126.0</td>\n",
              "      <td>28</td>\n",
              "    </tr>\n",
              "    <tr>\n",
              "      <th>197</th>\n",
              "      <td>126.0</td>\n",
              "      <td>74</td>\n",
              "    </tr>\n",
              "    <tr>\n",
              "      <th>198</th>\n",
              "      <td>126.0</td>\n",
              "      <td>18</td>\n",
              "    </tr>\n",
              "    <tr>\n",
              "      <th>199</th>\n",
              "      <td>126.0</td>\n",
              "      <td>83</td>\n",
              "    </tr>\n",
              "  </tbody>\n",
              "</table>\n",
              "<p>200 rows × 2 columns</p>\n",
              "</div>"
            ],
            "text/plain": [
              "     Telco Spending (IDR 000)  Purchasing power (1-100)\n",
              "0                        15.0                        39\n",
              "1                        15.0                        81\n",
              "2                        16.0                         6\n",
              "3                        16.0                        77\n",
              "4                        17.0                        40\n",
              "..                        ...                       ...\n",
              "195                     120.0                        79\n",
              "196                     126.0                        28\n",
              "197                     126.0                        74\n",
              "198                     126.0                        18\n",
              "199                     126.0                        83\n",
              "\n",
              "[200 rows x 2 columns]"
            ]
          },
          "execution_count": 28,
          "metadata": {},
          "output_type": "execute_result"
        }
      ],
      "source": [
        "df"
      ]
    },
    {
      "cell_type": "markdown",
      "id": "686ee895",
      "metadata": {
        "id": "686ee895"
      },
      "source": [
        "# Clustering Menggunakan KMeans dan Elbow Method\n"
      ]
    },
    {
      "cell_type": "markdown",
      "source": [
        "# Grafik: Hubungan antara Telco Spending terhadap Purchasing Power"
      ],
      "metadata": {
        "id": "3sevt82uXuhU"
      },
      "id": "3sevt82uXuhU"
    },
    {
      "cell_type": "code",
      "execution_count": null,
      "id": "8087bd6b",
      "metadata": {
        "id": "8087bd6b"
      },
      "outputs": [],
      "source": [
        "from sklearn.preprocessing import StandardScaler\n",
        "from sklearn.cluster import KMeans\n",
        "from sklearn.metrics import silhouette_score"
      ]
    },
    {
      "cell_type": "code",
      "execution_count": null,
      "id": "1969aeeb",
      "metadata": {
        "id": "1969aeeb",
        "outputId": "a3a0f582-7bd4-4cb4-de10-adbdd8e430b4"
      },
      "outputs": [
        {
          "data": {
            "image/png": "[encoded data removed]",
            "text/plain": [
              "<Figure size 864x576 with 1 Axes>"
            ]
          },
          "metadata": {
            "needs_background": "light"
          },
          "output_type": "display_data"
        }
      ],
      "source": [
        "sc = StandardScaler()\n",
        "dfoutlier_std = sc.fit_transform(df.astype(float))\n",
        "\n",
        "kmeans = KMeans(n_clusters=3, random_state=42,).fit(dfoutlier_std)\n",
        "labels = kmeans.labels_\n",
        "\n",
        "new_dfoutlier_std = pd.DataFrame(data = dfoutlier_std, columns = ['Telco Spending (IDR 000)', 'Purchasing power (1-100)'])\n",
        "new_dfoutlier_std['label_kmeans'] = labels\n",
        "\n",
        "fig, ax = plt.subplots(figsize=(12,8))\n",
        "\n",
        "plt.scatter(new_dfoutlier_std['Telco Spending (IDR 000)'][new_dfoutlier_std.label_kmeans == 0], new_dfoutlier_std['Purchasing power (1-100)'][new_dfoutlier_std.label_kmeans == 0], c='blue', s=100, edgecolor='green', linestyle='-')\n",
        "plt.scatter(new_dfoutlier_std['Telco Spending (IDR 000)'][new_dfoutlier_std.label_kmeans == 1], new_dfoutlier_std['Purchasing power (1-100)'][new_dfoutlier_std.label_kmeans == 1], c='red', s=100, edgecolor='green', linestyle='-')\n",
        "plt.scatter(new_dfoutlier_std['Telco Spending (IDR 000)'][new_dfoutlier_std.label_kmeans == 2], new_dfoutlier_std['Purchasing power (1-100)'][new_dfoutlier_std.label_kmeans == 2], c='green', s=100, edgecolor='green', linestyle='-')\n",
        "centers = kmeans.cluster_centers_\n",
        "plt.scatter(centers[:, 0], centers[:, 1], c='black', s=500);\n",
        "plt.xlabel('Telco Spending (IDR 000)')\n",
        "plt.ylabel('Purchasing power (1-100)')\n",
        "plt.show()"
      ]
    },
    {
      "cell_type": "code",
      "execution_count": null,
      "id": "199c8778",
      "metadata": {
        "id": "199c8778",
        "outputId": "08ca2acb-5af4-49f8-ccd2-933f671e2f7d"
      },
      "outputs": [
        {
          "name": "stderr",
          "output_type": "stream",
          "text": [
            "D:\\anaconda3\\lib\\site-packages\\sklearn\\cluster\\_kmeans.py:1036: UserWarning: KMeans is known to have a memory leak on Windows with MKL, when there are less chunks than available threads. You can avoid it by setting the environment variable OMP_NUM_THREADS=1.\n",
            "  warnings.warn(\n"
          ]
        },
        {
          "data": {
            "image/png": "[encoded data removed]",
            "text/plain": [
              "<Figure size 864x576 with 1 Axes>"
            ]
          },
          "metadata": {
            "needs_background": "light"
          },
          "output_type": "display_data"
        }
      ],
      "source": [
        "wcss = []\n",
        "for i in range(1, 11):\n",
        "    kmeans = KMeans(n_clusters = i,init='k-means++', random_state = 42)\n",
        "    kmeans.fit(new_dfoutlier_std)\n",
        "    wcss.append(kmeans.inertia_)\n",
        "fig, ax = plt.subplots(figsize=(12,8))\n",
        "plt.plot(range(1, 11), wcss)\n",
        "plt.title('The Elbow Method')\n",
        "plt.xlabel('Number of clusters')\n",
        "plt.ylabel('WCSS')\n",
        "plt.show()"
      ]
    },
    {
      "cell_type": "code",
      "execution_count": null,
      "id": "6d3a7771",
      "metadata": {
        "id": "6d3a7771",
        "outputId": "bdcc044d-ea20-4bd3-ef48-5a0295c39c89"
      },
      "outputs": [
        {
          "data": {
            "text/plain": [
              "array([1, 4, 1, 4, 1, 4, 1, 4, 1, 4, 1, 4, 1, 4, 1, 4, 1, 4, 1, 4, 1, 4,\n",
              "       1, 4, 1, 4, 1, 4, 1, 4, 1, 4, 1, 4, 1, 4, 1, 4, 1, 4, 1, 4, 1, 2,\n",
              "       1, 4, 2, 2, 2, 2, 2, 2, 2, 2, 2, 2, 2, 2, 2, 2, 2, 2, 2, 2, 2, 2,\n",
              "       2, 2, 2, 2, 2, 2, 2, 2, 2, 2, 2, 2, 2, 2, 2, 2, 2, 2, 2, 2, 2, 2,\n",
              "       2, 2, 2, 2, 2, 2, 2, 2, 2, 2, 2, 2, 2, 2, 2, 2, 2, 2, 2, 2, 2, 2,\n",
              "       2, 2, 2, 2, 2, 2, 2, 2, 2, 2, 2, 2, 2, 0, 3, 0, 2, 0, 3, 0, 3, 0,\n",
              "       3, 0, 3, 0, 3, 0, 3, 0, 3, 0, 2, 0, 3, 0, 3, 0, 3, 0, 3, 0, 3, 0,\n",
              "       3, 0, 3, 0, 3, 0, 3, 0, 3, 0, 3, 0, 3, 0, 3, 0, 3, 0, 3, 0, 3, 0,\n",
              "       3, 0, 3, 0, 3, 0, 3, 0, 3, 0, 3, 0, 3, 0, 3, 0, 3, 0, 3, 0, 3, 0,\n",
              "       3, 0])"
            ]
          },
          "execution_count": 33,
          "metadata": {},
          "output_type": "execute_result"
        }
      ],
      "source": [
        "kmeans2 = KMeans(n_clusters=5, init='k-means++', random_state=42).fit(dfoutlier_std)\n",
        "\n",
        "kmeans2.labels_"
      ]
    },
    {
      "cell_type": "markdown",
      "id": "41de3cf6",
      "metadata": {
        "id": "41de3cf6"
      },
      "source": [
        "# Menggunakan Jumlah Cluster dari Elbow Method"
      ]
    },
    {
      "cell_type": "code",
      "execution_count": null,
      "id": "df8ffca3",
      "metadata": {
        "id": "df8ffca3",
        "outputId": "189f3ecf-dd59-48f1-970f-3aa58b2a7d98"
      },
      "outputs": [
        {
          "data": {
            "image/png": "[encoded data removed]",
            "text/plain": [
              "<Figure size 864x576 with 1 Axes>"
            ]
          },
          "metadata": {
            "needs_background": "light"
          },
          "output_type": "display_data"
        }
      ],
      "source": [
        "labels2 = kmeans2.labels_\n",
        "\n",
        "new_dfoutlier_std['label_kmeans2'] = labels2\n",
        "\n",
        "fig, ax = plt.subplots(figsize=(12,8))\n",
        "\n",
        "plt.scatter(new_dfoutlier_std['Telco Spending (IDR 000)'][new_dfoutlier_std.label_kmeans2 == 0], new_dfoutlier_std['Purchasing power (1-100)'][new_dfoutlier_std.label_kmeans2 == 0], c='blue', s=100, edgecolor='green', linestyle='-')\n",
        "plt.scatter(new_dfoutlier_std['Telco Spending (IDR 000)'][new_dfoutlier_std.label_kmeans2 == 1], new_dfoutlier_std['Purchasing power (1-100)'][new_dfoutlier_std.label_kmeans2 == 1], c='red', s=100, edgecolor='green', linestyle='-')\n",
        "plt.scatter(new_dfoutlier_std['Telco Spending (IDR 000)'][new_dfoutlier_std.label_kmeans2 == 2], new_dfoutlier_std['Purchasing power (1-100)'][new_dfoutlier_std.label_kmeans2 == 2], c='green', s=100, edgecolor='green', linestyle='-')\n",
        "plt.scatter(new_dfoutlier_std['Telco Spending (IDR 000)'][new_dfoutlier_std.label_kmeans2 == 3], new_dfoutlier_std['Purchasing power (1-100)'][new_dfoutlier_std.label_kmeans2 == 3], c='purple', s=100, edgecolor='green', linestyle='-')\n",
        "plt.scatter(new_dfoutlier_std['Telco Spending (IDR 000)'][new_dfoutlier_std.label_kmeans2 == 4], new_dfoutlier_std['Purchasing power (1-100)'][new_dfoutlier_std.label_kmeans2 == 4], c='yellow', s=100, edgecolor='green', linestyle='-')\n",
        "\n",
        "\n",
        "\n",
        "centers = kmeans2.cluster_centers_\n",
        "plt.scatter(centers[:, 0], centers[:, 1], c='black', s=500);\n",
        "plt.xlabel('Telco Spending (IDR 000)')\n",
        "plt.ylabel('Purchasing power')\n",
        "plt.show()"
      ]
    },
    {
      "cell_type": "markdown",
      "id": "d82ef120",
      "metadata": {
        "id": "d82ef120"
      },
      "source": [
        "# KESIMPULAN\n"
      ]
    },
    {
      "cell_type": "markdown",
      "id": "f8359466",
      "metadata": {
        "id": "f8359466"
      },
      "source": [
        "Dari grafik diatas, dapat disimpulkan bahwa:\n",
        "\n",
        "1. Segmen Biru= Memiliki nilai Telco Spending dan Purchase Power yang tinggi\n",
        "2. Segmen Ungu= Memiliki nilai Telco Spending yang tinggi dan Purchase Power yang rendah\n",
        "3. Segmen Hijau= Memiliki nilai Telco Spending dan Purchase Power yang tidak terlalu tinggi ataupun tidak terlalu rendah\n",
        "4. Segmen Kuning= Memiliki nilai Telco Spending yang rendah dan Purchase Power yang tinggi\n",
        "5. Segmen Merah= Memiliki nilai Telco Spending dan Purchase Power yang rendah\n",
        "\n",
        "Pertanyaan Bisnis:\n",
        "\n",
        "- Customer yang tergolong pada segmen berwarna biru adalah kondisi yang diinginkan, bagaimana agar customer segmen selain berwarna biru ikut meningkat?\n",
        "\n",
        "Solusi Bisnis:\n",
        "- Customer yang terbagi menjadi beberapa segmen memiliki karakteristik yang berbeda-beda.\n",
        "\n",
        "    a. Segmen berwarna ungu adalah para customer yang menggunakan pelayanan telkomsel dengan harga mahal namun jarang melakukan\n",
        "    pembelian pelayanan telkomsel\n",
        "    \n",
        "    b. Segmen berwarna hijau adalah para customer yang menggunakan pelayanan telkomsel dengan harga yang tidak terlalu mahal\n",
        "    atau murah dan tidak terlalu sering melakukan pembelian pelayanan telkomsel\n",
        "    \n",
        "    c. Segmen berwarna kuning adalah para customer yang menggunakan pelayanan telkomsel dengan harga murah dan sering melakukan\n",
        "    pembelian pelayanan telkomsel\n",
        "    \n",
        "    d. Segmen berwarna merah adalah para customer yang menggunakan pelayanan telkomsel dengan harga murah dan jarang melakukan\n",
        "    pembelian pelayanan telkomsel\n",
        "    \n",
        "Untuk meningkatkan penggunaan pelayanan telkomsel agar seperti customer yang masuk dalam segmen biru, lebih baik kita memberikan sebuah survey online pada halaman utama aplikasi pelayanan telkomsel untuk memberikan sebuah promo pada pelayanan telkomsel khususnya pada pembelian kuota pada jenis produk yang sama atau merekomendasikan produk kuota dengan jenis yang baru kepada pengguna telkomsel sesuai dengan segmen yang telah dibagi. Hal ini dikarenakan customer sebagai masyarakat yang hidup di era teknologi bersifat konsumtif. Harapannya, dengan metode survey yang telah disebutkan, bisa meningkatkan pelayanan telkomsel dan experience customer."
      ]
    }
  ],
  "metadata": {
    "kernelspec": {
      "display_name": "Python 3 (ipykernel)",
      "language": "python",
      "name": "python3"
    },
    "language_info": {
      "codemirror_mode": {
        "name": "ipython",
        "version": 3
      },
      "file_extension": ".py",
      "mimetype": "text/x-python",
      "name": "python",
      "nbconvert_exporter": "python",
      "pygments_lexer": "ipython3",
      "version": "3.9.12"
    },
    "colab": {
      "provenance": []
    }
  },
  "nbformat": 4,
  "nbformat_minor": 5
}