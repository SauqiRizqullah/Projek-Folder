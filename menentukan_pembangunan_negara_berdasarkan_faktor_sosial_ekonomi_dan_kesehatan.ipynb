{
  "cells": [
    {
      "cell_type": "markdown",
      "id": "7928ddf3",
      "metadata": {
        "id": "7928ddf3"
      },
      "source": [
        "# MENENTUKAN PEMBANGUNAN NEGARA BERDASARKAN FAKTOR SOSIAL EKONOMI DAN KESEHATAN"
      ]
    },
    {
      "cell_type": "code",
      "execution_count": null,
      "id": "b4877e8e",
      "metadata": {
        "id": "b4877e8e",
        "outputId": "bcafb6ca-beb1-439e-e0a4-062e94de3278"
      },
      "outputs": [
        {
          "data": {
            "text/html": [
              "<div>\n",
              "<style scoped>\n",
              "    .dataframe tbody tr th:only-of-type {\n",
              "        vertical-align: middle;\n",
              "    }\n",
              "\n",
              "    .dataframe tbody tr th {\n",
              "        vertical-align: top;\n",
              "    }\n",
              "\n",
              "    .dataframe thead th {\n",
              "        text-align: right;\n",
              "    }\n",
              "</style>\n",
              "<table border=\"1\" class=\"dataframe\">\n",
              "  <thead>\n",
              "    <tr style=\"text-align: right;\">\n",
              "      <th></th>\n",
              "      <th>Negara</th>\n",
              "      <th>Kematian_anak</th>\n",
              "      <th>Ekspor</th>\n",
              "      <th>Kesehatan</th>\n",
              "      <th>Impor</th>\n",
              "      <th>Pendapatan</th>\n",
              "      <th>Inflasi</th>\n",
              "      <th>Harapan_hidup</th>\n",
              "      <th>Jumlah_fertiliti</th>\n",
              "      <th>GDPperkapita</th>\n",
              "    </tr>\n",
              "  </thead>\n",
              "  <tbody>\n",
              "    <tr>\n",
              "      <th>0</th>\n",
              "      <td>Afghanistan</td>\n",
              "      <td>90.2</td>\n",
              "      <td>10.0</td>\n",
              "      <td>7.58</td>\n",
              "      <td>44.9</td>\n",
              "      <td>1610</td>\n",
              "      <td>9.44</td>\n",
              "      <td>56.2</td>\n",
              "      <td>5.82</td>\n",
              "      <td>553</td>\n",
              "    </tr>\n",
              "    <tr>\n",
              "      <th>1</th>\n",
              "      <td>Albania</td>\n",
              "      <td>16.6</td>\n",
              "      <td>28.0</td>\n",
              "      <td>6.55</td>\n",
              "      <td>48.6</td>\n",
              "      <td>9930</td>\n",
              "      <td>4.49</td>\n",
              "      <td>76.3</td>\n",
              "      <td>1.65</td>\n",
              "      <td>4090</td>\n",
              "    </tr>\n",
              "    <tr>\n",
              "      <th>2</th>\n",
              "      <td>Algeria</td>\n",
              "      <td>27.3</td>\n",
              "      <td>38.4</td>\n",
              "      <td>4.17</td>\n",
              "      <td>31.4</td>\n",
              "      <td>12900</td>\n",
              "      <td>16.10</td>\n",
              "      <td>76.5</td>\n",
              "      <td>2.89</td>\n",
              "      <td>4460</td>\n",
              "    </tr>\n",
              "    <tr>\n",
              "      <th>3</th>\n",
              "      <td>Angola</td>\n",
              "      <td>119.0</td>\n",
              "      <td>62.3</td>\n",
              "      <td>2.85</td>\n",
              "      <td>42.9</td>\n",
              "      <td>5900</td>\n",
              "      <td>22.40</td>\n",
              "      <td>60.1</td>\n",
              "      <td>6.16</td>\n",
              "      <td>3530</td>\n",
              "    </tr>\n",
              "    <tr>\n",
              "      <th>4</th>\n",
              "      <td>Antigua and Barbuda</td>\n",
              "      <td>10.3</td>\n",
              "      <td>45.5</td>\n",
              "      <td>6.03</td>\n",
              "      <td>58.9</td>\n",
              "      <td>19100</td>\n",
              "      <td>1.44</td>\n",
              "      <td>76.8</td>\n",
              "      <td>2.13</td>\n",
              "      <td>12200</td>\n",
              "    </tr>\n",
              "    <tr>\n",
              "      <th>...</th>\n",
              "      <td>...</td>\n",
              "      <td>...</td>\n",
              "      <td>...</td>\n",
              "      <td>...</td>\n",
              "      <td>...</td>\n",
              "      <td>...</td>\n",
              "      <td>...</td>\n",
              "      <td>...</td>\n",
              "      <td>...</td>\n",
              "      <td>...</td>\n",
              "    </tr>\n",
              "    <tr>\n",
              "      <th>162</th>\n",
              "      <td>Vanuatu</td>\n",
              "      <td>29.2</td>\n",
              "      <td>46.6</td>\n",
              "      <td>5.25</td>\n",
              "      <td>52.7</td>\n",
              "      <td>2950</td>\n",
              "      <td>2.62</td>\n",
              "      <td>63.0</td>\n",
              "      <td>3.50</td>\n",
              "      <td>2970</td>\n",
              "    </tr>\n",
              "    <tr>\n",
              "      <th>163</th>\n",
              "      <td>Venezuela</td>\n",
              "      <td>17.1</td>\n",
              "      <td>28.5</td>\n",
              "      <td>4.91</td>\n",
              "      <td>17.6</td>\n",
              "      <td>16500</td>\n",
              "      <td>45.90</td>\n",
              "      <td>75.4</td>\n",
              "      <td>2.47</td>\n",
              "      <td>13500</td>\n",
              "    </tr>\n",
              "    <tr>\n",
              "      <th>164</th>\n",
              "      <td>Vietnam</td>\n",
              "      <td>23.3</td>\n",
              "      <td>72.0</td>\n",
              "      <td>6.84</td>\n",
              "      <td>80.2</td>\n",
              "      <td>4490</td>\n",
              "      <td>12.10</td>\n",
              "      <td>73.1</td>\n",
              "      <td>1.95</td>\n",
              "      <td>1310</td>\n",
              "    </tr>\n",
              "    <tr>\n",
              "      <th>165</th>\n",
              "      <td>Yemen</td>\n",
              "      <td>56.3</td>\n",
              "      <td>30.0</td>\n",
              "      <td>5.18</td>\n",
              "      <td>34.4</td>\n",
              "      <td>4480</td>\n",
              "      <td>23.60</td>\n",
              "      <td>67.5</td>\n",
              "      <td>4.67</td>\n",
              "      <td>1310</td>\n",
              "    </tr>\n",
              "    <tr>\n",
              "      <th>166</th>\n",
              "      <td>Zambia</td>\n",
              "      <td>83.1</td>\n",
              "      <td>37.0</td>\n",
              "      <td>5.89</td>\n",
              "      <td>30.9</td>\n",
              "      <td>3280</td>\n",
              "      <td>14.00</td>\n",
              "      <td>52.0</td>\n",
              "      <td>5.40</td>\n",
              "      <td>1460</td>\n",
              "    </tr>\n",
              "  </tbody>\n",
              "</table>\n",
              "<p>167 rows × 10 columns</p>\n",
              "</div>"
            ],
            "text/plain": [
              "                  Negara  Kematian_anak  Ekspor  Kesehatan  Impor  Pendapatan  \\\n",
              "0            Afghanistan           90.2    10.0       7.58   44.9        1610   \n",
              "1                Albania           16.6    28.0       6.55   48.6        9930   \n",
              "2                Algeria           27.3    38.4       4.17   31.4       12900   \n",
              "3                 Angola          119.0    62.3       2.85   42.9        5900   \n",
              "4    Antigua and Barbuda           10.3    45.5       6.03   58.9       19100   \n",
              "..                   ...            ...     ...        ...    ...         ...   \n",
              "162              Vanuatu           29.2    46.6       5.25   52.7        2950   \n",
              "163            Venezuela           17.1    28.5       4.91   17.6       16500   \n",
              "164              Vietnam           23.3    72.0       6.84   80.2        4490   \n",
              "165                Yemen           56.3    30.0       5.18   34.4        4480   \n",
              "166               Zambia           83.1    37.0       5.89   30.9        3280   \n",
              "\n",
              "     Inflasi  Harapan_hidup  Jumlah_fertiliti  GDPperkapita  \n",
              "0       9.44           56.2              5.82           553  \n",
              "1       4.49           76.3              1.65          4090  \n",
              "2      16.10           76.5              2.89          4460  \n",
              "3      22.40           60.1              6.16          3530  \n",
              "4       1.44           76.8              2.13         12200  \n",
              "..       ...            ...               ...           ...  \n",
              "162     2.62           63.0              3.50          2970  \n",
              "163    45.90           75.4              2.47         13500  \n",
              "164    12.10           73.1              1.95          1310  \n",
              "165    23.60           67.5              4.67          1310  \n",
              "166    14.00           52.0              5.40          1460  \n",
              "\n",
              "[167 rows x 10 columns]"
            ]
          },
          "execution_count": 1,
          "metadata": {},
          "output_type": "execute_result"
        }
      ],
      "source": [
        "import matplotlib.pyplot as plt\n",
        "import pandas as pd\n",
        "import numpy as np\n",
        "\n",
        "df = pd.read_csv('Data_Negara_HELP.csv')\n",
        "df"
      ]
    },
    {
      "cell_type": "markdown",
      "source": [
        "Keterangan Data:\n",
        "\n",
        "1. Negara : Nama negara\n",
        "2. Kematian_anak: Kematian anak di bawah usia 5 tahun per 1000 kelahiran\n",
        "3. Ekspor : Ekspor barang dan jasa perkapita\n",
        "4. Kesehatan: Total pengeluaran kesehatan perkapita\n",
        "5. Impor: Impor barang dan jasa perkapita\n",
        "6. Pendapatan: Penghasilan bersih perorang\n",
        "7. Inflasi: Pengukuran tingkat pertumbuhan tahunan dari Total GDP\n",
        "8. Harapan_hidup: Jumlah tahun rata-rata seorang anak yang baru lahir akan hidup\n",
        "jika pola kematian saat ini tetap sama\n",
        "9. Jumlah_fertiliti: Jumlah anak yang akan lahir dari setiap wanita jika tingkat kesuburan usia saat ini tetap sama\n",
        "10. GDPperkapita: GDP per kapita. Dihitung sebagai Total GDP dibagi dengan total populasi."
      ],
      "metadata": {
        "id": "1snDmDVLUZVo"
      },
      "id": "1snDmDVLUZVo"
    },
    {
      "cell_type": "markdown",
      "id": "ec3a78fc",
      "metadata": {
        "id": "ec3a78fc"
      },
      "source": [
        "# Menghitung Jumlah Missing Values\n"
      ]
    },
    {
      "cell_type": "code",
      "execution_count": null,
      "id": "6b782965",
      "metadata": {
        "id": "6b782965",
        "outputId": "bf6d7143-7cee-4e97-c81e-bdf0fb9b07e4"
      },
      "outputs": [
        {
          "data": {
            "text/plain": [
              "Negara              0\n",
              "Kematian_anak       0\n",
              "Ekspor              0\n",
              "Kesehatan           0\n",
              "Impor               0\n",
              "Pendapatan          0\n",
              "Inflasi             0\n",
              "Harapan_hidup       0\n",
              "Jumlah_fertiliti    0\n",
              "GDPperkapita        0\n",
              "dtype: int64"
            ]
          },
          "execution_count": 2,
          "metadata": {},
          "output_type": "execute_result"
        }
      ],
      "source": [
        "df.isnull().sum()"
      ]
    },
    {
      "cell_type": "markdown",
      "id": "56d9046b",
      "metadata": {
        "id": "56d9046b"
      },
      "source": [
        "# Mencari Data Pencilan (Outlier)"
      ]
    },
    {
      "cell_type": "code",
      "execution_count": null,
      "id": "6ec31f77",
      "metadata": {
        "id": "6ec31f77"
      },
      "outputs": [],
      "source": [
        "def get_lower_upper_bound(x):\n",
        "    q1 = np.percentile(x,25)\n",
        "    q3 = np.percentile(x,75)\n",
        "    iqr = q3 - q1\n",
        "    lower_bound = q1 - 1.5*iqr\n",
        "    upper_bound = q3 + 1.5*iqr\n",
        "    return lower_bound, upper_bound"
      ]
    },
    {
      "cell_type": "code",
      "execution_count": null,
      "id": "e773b99c",
      "metadata": {
        "id": "e773b99c"
      },
      "outputs": [],
      "source": [
        "def get_outlier_iqr(x):\n",
        "    lower_bound, upper_bound = get_lower_upper_bound(x)\n",
        "    return x[np.where((x > upper_bound) | (x < lower_bound))]"
      ]
    },
    {
      "cell_type": "code",
      "execution_count": null,
      "id": "5a7630e6",
      "metadata": {
        "id": "5a7630e6",
        "outputId": "33ecaaa3-0295-4651-df90-567faf9bc1cb"
      },
      "outputs": [
        {
          "name": "stdout",
          "output_type": "stream",
          "text": [
            "[149. 150. 208. 160.]\n",
            "[103.  175.  153.   93.8 200. ]\n",
            "[14.2 17.9]\n",
            "[142. 154. 108. 174.]\n",
            "[ 80600  75200  91700  62300 125000  72100  55500  57600]\n",
            "[ 24.9  39.2 104.   26.5  45.9]\n",
            "[47.5 32.1 46.5]\n",
            "[7.49]\n",
            "[ 51900  46900  44400  35300  47400  58000  46200  40600  41800  41900\n",
            "  48700  35800  44500  38500 105000  50300  33700  87800  70300  46600\n",
            "  52100  74600  35000  38900  48400]\n"
          ]
        }
      ],
      "source": [
        "print(get_outlier_iqr(df['Kematian_anak'].values))\n",
        "print(get_outlier_iqr(df['Ekspor'].values))\n",
        "print(get_outlier_iqr(df['Kesehatan'].values))\n",
        "print(get_outlier_iqr(df['Impor'].values))\n",
        "print(get_outlier_iqr(df['Pendapatan'].values))\n",
        "print(get_outlier_iqr(df['Inflasi'].values))\n",
        "print(get_outlier_iqr(df['Harapan_hidup'].values))\n",
        "print(get_outlier_iqr(df['Jumlah_fertiliti'].values))\n",
        "print(get_outlier_iqr(df['GDPperkapita'].values))"
      ]
    },
    {
      "cell_type": "code",
      "execution_count": null,
      "id": "9120a490",
      "metadata": {
        "id": "9120a490",
        "outputId": "b8002e5b-0923-4b50-c26b-3d2090cd1366"
      },
      "outputs": [
        {
          "data": {
            "text/plain": [
              "<AxesSubplot:xlabel='Kematian_anak'>"
            ]
          },
          "execution_count": 6,
          "metadata": {},
          "output_type": "execute_result"
        },
        {
          "data": {
            "image/png": "[encoded data removed]",
            "text/plain": [
              "<Figure size 432x288 with 1 Axes>"
            ]
          },
          "metadata": {
            "needs_background": "light"
          },
          "output_type": "display_data"
        }
      ],
      "source": [
        "import seaborn as sns\n",
        "sns.boxplot(x='Kematian_anak', data=df)"
      ]
    },
    {
      "cell_type": "code",
      "execution_count": null,
      "id": "6a37006b",
      "metadata": {
        "id": "6a37006b",
        "outputId": "79a7a1be-07bf-4483-e943-ab73b3f08648"
      },
      "outputs": [
        {
          "data": {
            "text/plain": [
              "<AxesSubplot:xlabel='Ekspor'>"
            ]
          },
          "execution_count": 7,
          "metadata": {},
          "output_type": "execute_result"
        },
        {
          "data": {
            "image/png": "[encoded data removed]",
            "text/plain": [
              "<Figure size 432x288 with 1 Axes>"
            ]
          },
          "metadata": {
            "needs_background": "light"
          },
          "output_type": "display_data"
        }
      ],
      "source": [
        "sns.boxplot(x='Ekspor', data=df)"
      ]
    },
    {
      "cell_type": "code",
      "execution_count": null,
      "id": "f90f094b",
      "metadata": {
        "id": "f90f094b",
        "outputId": "3c505d5d-838d-46c5-8d67-cb83123fc0d9"
      },
      "outputs": [
        {
          "data": {
            "text/plain": [
              "<AxesSubplot:xlabel='Kesehatan'>"
            ]
          },
          "execution_count": 8,
          "metadata": {},
          "output_type": "execute_result"
        },
        {
          "data": {
            "image/png": "[encoded data removed]",
            "text/plain": [
              "<Figure size 432x288 with 1 Axes>"
            ]
          },
          "metadata": {
            "needs_background": "light"
          },
          "output_type": "display_data"
        }
      ],
      "source": [
        "sns.boxplot(x='Kesehatan', data=df)"
      ]
    },
    {
      "cell_type": "code",
      "execution_count": null,
      "id": "1bc744d9",
      "metadata": {
        "id": "1bc744d9",
        "outputId": "3a12e531-05a1-41a2-fb01-f0d2fc054662"
      },
      "outputs": [
        {
          "data": {
            "text/plain": [
              "<AxesSubplot:xlabel='Impor'>"
            ]
          },
          "execution_count": 9,
          "metadata": {},
          "output_type": "execute_result"
        },
        {
          "data": {
            "image/png": "[encoded data removed]",
            "text/plain": [
              "<Figure size 432x288 with 1 Axes>"
            ]
          },
          "metadata": {
            "needs_background": "light"
          },
          "output_type": "display_data"
        }
      ],
      "source": [
        "sns.boxplot(x='Impor', data=df)"
      ]
    },
    {
      "cell_type": "code",
      "execution_count": null,
      "id": "dc1a4349",
      "metadata": {
        "id": "dc1a4349",
        "outputId": "6fe7b4e6-a012-461b-ee16-af0955a7aca9"
      },
      "outputs": [
        {
          "data": {
            "text/plain": [
              "<AxesSubplot:xlabel='Pendapatan'>"
            ]
          },
          "execution_count": 10,
          "metadata": {},
          "output_type": "execute_result"
        },
        {
          "data": {
            "image/png": "[encoded data removed]",
            "text/plain": [
              "<Figure size 432x288 with 1 Axes>"
            ]
          },
          "metadata": {
            "needs_background": "light"
          },
          "output_type": "display_data"
        }
      ],
      "source": [
        "sns.boxplot(x='Pendapatan', data=df)"
      ]
    },
    {
      "cell_type": "code",
      "execution_count": null,
      "id": "f8af3b2c",
      "metadata": {
        "id": "f8af3b2c",
        "outputId": "286eb2c6-4eba-406c-e981-bff297dfc482"
      },
      "outputs": [
        {
          "data": {
            "text/plain": [
              "<AxesSubplot:xlabel='Inflasi'>"
            ]
          },
          "execution_count": 11,
          "metadata": {},
          "output_type": "execute_result"
        },
        {
          "data": {
            "image/png": "[encoded data removed]",
            "text/plain": [
              "<Figure size 432x288 with 1 Axes>"
            ]
          },
          "metadata": {
            "needs_background": "light"
          },
          "output_type": "display_data"
        }
      ],
      "source": [
        "sns.boxplot(x='Inflasi', data=df)"
      ]
    },
    {
      "cell_type": "code",
      "execution_count": null,
      "id": "46b8fb80",
      "metadata": {
        "id": "46b8fb80",
        "outputId": "56908382-d40d-4e66-c552-7efc0b768cb6"
      },
      "outputs": [
        {
          "data": {
            "text/plain": [
              "<AxesSubplot:xlabel='Harapan_hidup'>"
            ]
          },
          "execution_count": 12,
          "metadata": {},
          "output_type": "execute_result"
        },
        {
          "data": {
            "image/png": "[encoded data removed]",
            "text/plain": [
              "<Figure size 432x288 with 1 Axes>"
            ]
          },
          "metadata": {
            "needs_background": "light"
          },
          "output_type": "display_data"
        }
      ],
      "source": [
        "sns.boxplot(x='Harapan_hidup', data=df)"
      ]
    },
    {
      "cell_type": "code",
      "execution_count": null,
      "id": "e899bc7b",
      "metadata": {
        "id": "e899bc7b",
        "outputId": "d140de63-024c-465e-9c03-196f26eac08a"
      },
      "outputs": [
        {
          "data": {
            "text/plain": [
              "<AxesSubplot:xlabel='Jumlah_fertiliti'>"
            ]
          },
          "execution_count": 13,
          "metadata": {},
          "output_type": "execute_result"
        },
        {
          "data": {
            "image/png": "[encoded data removed]",
            "text/plain": [
              "<Figure size 432x288 with 1 Axes>"
            ]
          },
          "metadata": {
            "needs_background": "light"
          },
          "output_type": "display_data"
        }
      ],
      "source": [
        "sns.boxplot(x='Jumlah_fertiliti', data=df)"
      ]
    },
    {
      "cell_type": "code",
      "execution_count": null,
      "id": "a5c83b9b",
      "metadata": {
        "id": "a5c83b9b",
        "outputId": "8e8fff80-5761-4bb8-8c2c-da7ca0c80a21"
      },
      "outputs": [
        {
          "data": {
            "text/plain": [
              "<AxesSubplot:xlabel='GDPperkapita'>"
            ]
          },
          "execution_count": 14,
          "metadata": {},
          "output_type": "execute_result"
        },
        {
          "data": {
            "image/png": "[encoded data removed]",
            "text/plain": [
              "<Figure size 432x288 with 1 Axes>"
            ]
          },
          "metadata": {
            "needs_background": "light"
          },
          "output_type": "display_data"
        }
      ],
      "source": [
        "sns.boxplot(x='GDPperkapita', data=df)"
      ]
    },
    {
      "cell_type": "code",
      "execution_count": null,
      "id": "a3bdd2e7",
      "metadata": {
        "id": "a3bdd2e7"
      },
      "outputs": [],
      "source": [
        "def remove_outlier_IQR(x):\n",
        "    Q1 = df.quantile(0.25)\n",
        "    Q3 = df.quantile(0.75)\n",
        "    IQR = Q3 - Q1\n",
        "    df_final= df[~((df<(Q1 - 1.5*IQR)) | (df>(Q3 + 1.5*IQR)))]\n",
        "    return df_final"
      ]
    },
    {
      "cell_type": "code",
      "execution_count": null,
      "id": "8e8fd682",
      "metadata": {
        "id": "8e8fd682",
        "outputId": "7ade1eed-5d1c-4900-b292-38414550edf3"
      },
      "outputs": [
        {
          "name": "stderr",
          "output_type": "stream",
          "text": [
            "C:\\Users\\ASUS\\AppData\\Local\\Temp\\ipykernel_18248\\3007848947.py:5: FutureWarning: Automatic reindexing on DataFrame vs Series comparisons is deprecated and will raise ValueError in a future version. Do `left, right = left.align(right, axis=1, copy=False)` before e.g. `left == right`\n",
            "  df_final= df[~((df<(Q1 - 1.5*IQR)) | (df>(Q3 + 1.5*IQR)))]\n"
          ]
        }
      ],
      "source": [
        "df_outlier_remove = remove_outlier_IQR(df)"
      ]
    },
    {
      "cell_type": "code",
      "execution_count": null,
      "id": "d5769740",
      "metadata": {
        "id": "d5769740"
      },
      "outputs": [],
      "source": [
        "df_outlier_remove.dropna(axis=0, inplace=True)"
      ]
    },
    {
      "cell_type": "code",
      "execution_count": null,
      "id": "352cd83b",
      "metadata": {
        "id": "352cd83b",
        "outputId": "8649dc03-9bb4-4cb2-9d26-7b5c6c443387"
      },
      "outputs": [
        {
          "data": {
            "text/plain": [
              "Negara              0\n",
              "Kematian_anak       0\n",
              "Ekspor              0\n",
              "Kesehatan           0\n",
              "Impor               0\n",
              "Pendapatan          0\n",
              "Inflasi             0\n",
              "Harapan_hidup       0\n",
              "Jumlah_fertiliti    0\n",
              "GDPperkapita        0\n",
              "dtype: int64"
            ]
          },
          "execution_count": 9,
          "metadata": {},
          "output_type": "execute_result"
        }
      ],
      "source": [
        "df_outlier_remove.isnull().sum()"
      ]
    },
    {
      "cell_type": "code",
      "execution_count": null,
      "id": "64f1c07d",
      "metadata": {
        "id": "64f1c07d",
        "outputId": "6dad1d62-5221-4910-911d-758dd09adafb"
      },
      "outputs": [
        {
          "data": {
            "text/plain": [
              "<AxesSubplot:xlabel='Kematian_anak'>"
            ]
          },
          "execution_count": 19,
          "metadata": {},
          "output_type": "execute_result"
        },
        {
          "data": {
            "image/png": "[encoded data removed]",
            "text/plain": [
              "<Figure size 432x288 with 1 Axes>"
            ]
          },
          "metadata": {
            "needs_background": "light"
          },
          "output_type": "display_data"
        }
      ],
      "source": [
        "sns.boxplot(x='Kematian_anak', data=df_outlier_remove)"
      ]
    },
    {
      "cell_type": "code",
      "execution_count": null,
      "id": "af6f908c",
      "metadata": {
        "id": "af6f908c",
        "outputId": "48f86a1b-10c3-42ff-cea0-fd5fe847006d"
      },
      "outputs": [
        {
          "data": {
            "text/plain": [
              "<AxesSubplot:xlabel='Ekspor'>"
            ]
          },
          "execution_count": 20,
          "metadata": {},
          "output_type": "execute_result"
        },
        {
          "data": {
            "image/png": "[encoded data removed]",
            "text/plain": [
              "<Figure size 432x288 with 1 Axes>"
            ]
          },
          "metadata": {
            "needs_background": "light"
          },
          "output_type": "display_data"
        }
      ],
      "source": [
        "sns.boxplot(x='Ekspor', data=df_outlier_remove)"
      ]
    },
    {
      "cell_type": "code",
      "execution_count": null,
      "id": "35e235af",
      "metadata": {
        "id": "35e235af",
        "outputId": "79f17d25-916c-4e21-c8ff-02b82f20d5e8"
      },
      "outputs": [
        {
          "data": {
            "text/plain": [
              "<AxesSubplot:xlabel='Kesehatan'>"
            ]
          },
          "execution_count": 21,
          "metadata": {},
          "output_type": "execute_result"
        },
        {
          "data": {
            "image/png": "[encoded data removed]",
            "text/plain": [
              "<Figure size 432x288 with 1 Axes>"
            ]
          },
          "metadata": {
            "needs_background": "light"
          },
          "output_type": "display_data"
        }
      ],
      "source": [
        "sns.boxplot(x='Kesehatan', data=df_outlier_remove)"
      ]
    },
    {
      "cell_type": "code",
      "execution_count": null,
      "id": "105990e5",
      "metadata": {
        "id": "105990e5",
        "outputId": "b8f545d0-5154-4593-cade-663a180443c8"
      },
      "outputs": [
        {
          "data": {
            "text/plain": [
              "<AxesSubplot:xlabel='Impor'>"
            ]
          },
          "execution_count": 22,
          "metadata": {},
          "output_type": "execute_result"
        },
        {
          "data": {
            "image/png": "[encoded data removed]",
            "text/plain": [
              "<Figure size 432x288 with 1 Axes>"
            ]
          },
          "metadata": {
            "needs_background": "light"
          },
          "output_type": "display_data"
        }
      ],
      "source": [
        "sns.boxplot(x='Impor', data=df_outlier_remove)"
      ]
    },
    {
      "cell_type": "code",
      "execution_count": null,
      "id": "756668ba",
      "metadata": {
        "id": "756668ba",
        "outputId": "00ce7f50-c566-442d-926d-f00b087ef200"
      },
      "outputs": [
        {
          "data": {
            "text/plain": [
              "<AxesSubplot:xlabel='Pendapatan'>"
            ]
          },
          "execution_count": 23,
          "metadata": {},
          "output_type": "execute_result"
        },
        {
          "data": {
            "image/png": "[encoded data removed]",
            "text/plain": [
              "<Figure size 432x288 with 1 Axes>"
            ]
          },
          "metadata": {
            "needs_background": "light"
          },
          "output_type": "display_data"
        }
      ],
      "source": [
        "sns.boxplot(x='Pendapatan', data=df_outlier_remove)"
      ]
    },
    {
      "cell_type": "code",
      "execution_count": null,
      "id": "1ea96936",
      "metadata": {
        "id": "1ea96936",
        "outputId": "ba8028c6-0426-43f6-ef78-6944e8850799"
      },
      "outputs": [
        {
          "data": {
            "text/plain": [
              "<AxesSubplot:xlabel='Inflasi'>"
            ]
          },
          "execution_count": 24,
          "metadata": {},
          "output_type": "execute_result"
        },
        {
          "data": {
            "image/png": "[encoded data removed]",
            "text/plain": [
              "<Figure size 432x288 with 1 Axes>"
            ]
          },
          "metadata": {
            "needs_background": "light"
          },
          "output_type": "display_data"
        }
      ],
      "source": [
        "sns.boxplot(x='Inflasi', data=df_outlier_remove)"
      ]
    },
    {
      "cell_type": "code",
      "execution_count": null,
      "id": "d2c4e9da",
      "metadata": {
        "id": "d2c4e9da",
        "outputId": "c290a674-1504-40b7-a71c-a0cbc7767543"
      },
      "outputs": [
        {
          "data": {
            "text/plain": [
              "<AxesSubplot:xlabel='Harapan_hidup'>"
            ]
          },
          "execution_count": 25,
          "metadata": {},
          "output_type": "execute_result"
        },
        {
          "data": {
            "image/png": "[encoded data removed]",
            "text/plain": [
              "<Figure size 432x288 with 1 Axes>"
            ]
          },
          "metadata": {
            "needs_background": "light"
          },
          "output_type": "display_data"
        }
      ],
      "source": [
        "sns.boxplot(x='Harapan_hidup', data=df_outlier_remove)"
      ]
    },
    {
      "cell_type": "code",
      "execution_count": null,
      "id": "96b0a850",
      "metadata": {
        "id": "96b0a850",
        "outputId": "84528b8e-306a-4237-a084-8c74c2051314"
      },
      "outputs": [
        {
          "data": {
            "text/plain": [
              "<AxesSubplot:xlabel='Jumlah_fertiliti'>"
            ]
          },
          "execution_count": 26,
          "metadata": {},
          "output_type": "execute_result"
        },
        {
          "data": {
            "image/png": "[encoded data removed]",
            "text/plain": [
              "<Figure size 432x288 with 1 Axes>"
            ]
          },
          "metadata": {
            "needs_background": "light"
          },
          "output_type": "display_data"
        }
      ],
      "source": [
        "sns.boxplot(x='Jumlah_fertiliti', data=df_outlier_remove)"
      ]
    },
    {
      "cell_type": "code",
      "execution_count": null,
      "id": "04e24f93",
      "metadata": {
        "id": "04e24f93",
        "outputId": "bf5cef19-e932-4aab-96f1-4325109248dc"
      },
      "outputs": [
        {
          "data": {
            "text/plain": [
              "<AxesSubplot:xlabel='GDPperkapita'>"
            ]
          },
          "execution_count": 27,
          "metadata": {},
          "output_type": "execute_result"
        },
        {
          "data": {
            "image/png": "[encoded data removed]",
            "text/plain": [
              "<Figure size 432x288 with 1 Axes>"
            ]
          },
          "metadata": {
            "needs_background": "light"
          },
          "output_type": "display_data"
        }
      ],
      "source": [
        "sns.boxplot(x='GDPperkapita', data=df_outlier_remove)"
      ]
    },
    {
      "cell_type": "code",
      "execution_count": null,
      "id": "d2df4a6d",
      "metadata": {
        "scrolled": true,
        "id": "d2df4a6d",
        "outputId": "83b5fed7-0d51-4a49-f494-51d54e76fc0b"
      },
      "outputs": [
        {
          "data": {
            "text/html": [
              "<div>\n",
              "<style scoped>\n",
              "    .dataframe tbody tr th:only-of-type {\n",
              "        vertical-align: middle;\n",
              "    }\n",
              "\n",
              "    .dataframe tbody tr th {\n",
              "        vertical-align: top;\n",
              "    }\n",
              "\n",
              "    .dataframe thead th {\n",
              "        text-align: right;\n",
              "    }\n",
              "</style>\n",
              "<table border=\"1\" class=\"dataframe\">\n",
              "  <thead>\n",
              "    <tr style=\"text-align: right;\">\n",
              "      <th></th>\n",
              "      <th>Negara</th>\n",
              "      <th>Kematian_anak</th>\n",
              "      <th>Ekspor</th>\n",
              "      <th>Kesehatan</th>\n",
              "      <th>Impor</th>\n",
              "      <th>Pendapatan</th>\n",
              "      <th>Inflasi</th>\n",
              "      <th>Harapan_hidup</th>\n",
              "      <th>Jumlah_fertiliti</th>\n",
              "      <th>GDPperkapita</th>\n",
              "    </tr>\n",
              "  </thead>\n",
              "  <tbody>\n",
              "    <tr>\n",
              "      <th>128</th>\n",
              "      <td>Saudi Arabia</td>\n",
              "      <td>15.7</td>\n",
              "      <td>49.60</td>\n",
              "      <td>4.29</td>\n",
              "      <td>33.0</td>\n",
              "      <td>45400.0</td>\n",
              "      <td>17.20</td>\n",
              "      <td>75.1</td>\n",
              "      <td>2.96</td>\n",
              "      <td>19300.0</td>\n",
              "    </tr>\n",
              "    <tr>\n",
              "      <th>115</th>\n",
              "      <td>Oman</td>\n",
              "      <td>11.7</td>\n",
              "      <td>65.70</td>\n",
              "      <td>2.77</td>\n",
              "      <td>41.2</td>\n",
              "      <td>45300.0</td>\n",
              "      <td>15.60</td>\n",
              "      <td>76.1</td>\n",
              "      <td>2.90</td>\n",
              "      <td>19300.0</td>\n",
              "    </tr>\n",
              "    <tr>\n",
              "      <th>11</th>\n",
              "      <td>Bahrain</td>\n",
              "      <td>8.6</td>\n",
              "      <td>69.50</td>\n",
              "      <td>4.97</td>\n",
              "      <td>50.9</td>\n",
              "      <td>41100.0</td>\n",
              "      <td>7.44</td>\n",
              "      <td>76.0</td>\n",
              "      <td>2.16</td>\n",
              "      <td>20700.0</td>\n",
              "    </tr>\n",
              "    <tr>\n",
              "      <th>42</th>\n",
              "      <td>Cyprus</td>\n",
              "      <td>3.6</td>\n",
              "      <td>50.20</td>\n",
              "      <td>5.97</td>\n",
              "      <td>57.5</td>\n",
              "      <td>33900.0</td>\n",
              "      <td>2.01</td>\n",
              "      <td>79.9</td>\n",
              "      <td>1.42</td>\n",
              "      <td>30800.0</td>\n",
              "    </tr>\n",
              "    <tr>\n",
              "      <th>139</th>\n",
              "      <td>Spain</td>\n",
              "      <td>3.8</td>\n",
              "      <td>25.50</td>\n",
              "      <td>9.54</td>\n",
              "      <td>26.8</td>\n",
              "      <td>32500.0</td>\n",
              "      <td>0.16</td>\n",
              "      <td>81.9</td>\n",
              "      <td>1.37</td>\n",
              "      <td>30700.0</td>\n",
              "    </tr>\n",
              "    <tr>\n",
              "      <th>...</th>\n",
              "      <td>...</td>\n",
              "      <td>...</td>\n",
              "      <td>...</td>\n",
              "      <td>...</td>\n",
              "      <td>...</td>\n",
              "      <td>...</td>\n",
              "      <td>...</td>\n",
              "      <td>...</td>\n",
              "      <td>...</td>\n",
              "      <td>...</td>\n",
              "    </tr>\n",
              "    <tr>\n",
              "      <th>94</th>\n",
              "      <td>Malawi</td>\n",
              "      <td>90.5</td>\n",
              "      <td>22.80</td>\n",
              "      <td>6.59</td>\n",
              "      <td>34.9</td>\n",
              "      <td>1030.0</td>\n",
              "      <td>12.10</td>\n",
              "      <td>53.1</td>\n",
              "      <td>5.31</td>\n",
              "      <td>459.0</td>\n",
              "    </tr>\n",
              "    <tr>\n",
              "      <th>106</th>\n",
              "      <td>Mozambique</td>\n",
              "      <td>101.0</td>\n",
              "      <td>31.50</td>\n",
              "      <td>5.21</td>\n",
              "      <td>46.2</td>\n",
              "      <td>918.0</td>\n",
              "      <td>7.64</td>\n",
              "      <td>54.5</td>\n",
              "      <td>5.56</td>\n",
              "      <td>419.0</td>\n",
              "    </tr>\n",
              "    <tr>\n",
              "      <th>26</th>\n",
              "      <td>Burundi</td>\n",
              "      <td>93.6</td>\n",
              "      <td>8.92</td>\n",
              "      <td>11.60</td>\n",
              "      <td>39.2</td>\n",
              "      <td>764.0</td>\n",
              "      <td>12.30</td>\n",
              "      <td>57.7</td>\n",
              "      <td>6.26</td>\n",
              "      <td>231.0</td>\n",
              "    </tr>\n",
              "    <tr>\n",
              "      <th>88</th>\n",
              "      <td>Liberia</td>\n",
              "      <td>89.3</td>\n",
              "      <td>19.10</td>\n",
              "      <td>11.80</td>\n",
              "      <td>92.6</td>\n",
              "      <td>700.0</td>\n",
              "      <td>5.47</td>\n",
              "      <td>60.8</td>\n",
              "      <td>5.02</td>\n",
              "      <td>327.0</td>\n",
              "    </tr>\n",
              "    <tr>\n",
              "      <th>37</th>\n",
              "      <td>Congo, Dem. Rep.</td>\n",
              "      <td>116.0</td>\n",
              "      <td>41.10</td>\n",
              "      <td>7.91</td>\n",
              "      <td>49.6</td>\n",
              "      <td>609.0</td>\n",
              "      <td>20.80</td>\n",
              "      <td>57.5</td>\n",
              "      <td>6.54</td>\n",
              "      <td>334.0</td>\n",
              "    </tr>\n",
              "  </tbody>\n",
              "</table>\n",
              "<p>128 rows × 10 columns</p>\n",
              "</div>"
            ],
            "text/plain": [
              "               Negara  Kematian_anak  Ekspor  Kesehatan  Impor  Pendapatan  \\\n",
              "128      Saudi Arabia           15.7   49.60       4.29   33.0     45400.0   \n",
              "115              Oman           11.7   65.70       2.77   41.2     45300.0   \n",
              "11            Bahrain            8.6   69.50       4.97   50.9     41100.0   \n",
              "42             Cyprus            3.6   50.20       5.97   57.5     33900.0   \n",
              "139             Spain            3.8   25.50       9.54   26.8     32500.0   \n",
              "..                ...            ...     ...        ...    ...         ...   \n",
              "94             Malawi           90.5   22.80       6.59   34.9      1030.0   \n",
              "106        Mozambique          101.0   31.50       5.21   46.2       918.0   \n",
              "26            Burundi           93.6    8.92      11.60   39.2       764.0   \n",
              "88            Liberia           89.3   19.10      11.80   92.6       700.0   \n",
              "37   Congo, Dem. Rep.          116.0   41.10       7.91   49.6       609.0   \n",
              "\n",
              "     Inflasi  Harapan_hidup  Jumlah_fertiliti  GDPperkapita  \n",
              "128    17.20           75.1              2.96       19300.0  \n",
              "115    15.60           76.1              2.90       19300.0  \n",
              "11      7.44           76.0              2.16       20700.0  \n",
              "42      2.01           79.9              1.42       30800.0  \n",
              "139     0.16           81.9              1.37       30700.0  \n",
              "..       ...            ...               ...           ...  \n",
              "94     12.10           53.1              5.31         459.0  \n",
              "106     7.64           54.5              5.56         419.0  \n",
              "26     12.30           57.7              6.26         231.0  \n",
              "88      5.47           60.8              5.02         327.0  \n",
              "37     20.80           57.5              6.54         334.0  \n",
              "\n",
              "[128 rows x 10 columns]"
            ]
          },
          "execution_count": 28,
          "metadata": {},
          "output_type": "execute_result"
        }
      ],
      "source": [
        "df_outlier_remove.sort_values('Pendapatan', ascending=False)"
      ]
    },
    {
      "cell_type": "code",
      "execution_count": null,
      "id": "a8c74790",
      "metadata": {
        "id": "a8c74790"
      },
      "outputs": [],
      "source": [
        "df_outlier_remove.to_csv('Data_Negara_HELP (After Handling Missing Value and Outlier).csv')"
      ]
    },
    {
      "cell_type": "markdown",
      "id": "bdf2a454",
      "metadata": {
        "id": "bdf2a454"
      },
      "source": [
        "# Clustering Menggunakan KMeans dan Elbow Method"
      ]
    },
    {
      "cell_type": "markdown",
      "source": [
        "# Grafik 1: Hubungan antara Nilai Pendapatan terhadap Nilai Ekspor"
      ],
      "metadata": {
        "id": "HNqUx6XvUj1Q"
      },
      "id": "HNqUx6XvUj1Q"
    },
    {
      "cell_type": "code",
      "execution_count": null,
      "id": "c5c33468",
      "metadata": {
        "id": "c5c33468"
      },
      "outputs": [],
      "source": [
        "from sklearn.preprocessing import StandardScaler\n",
        "from sklearn.cluster import KMeans\n",
        "\n"
      ]
    },
    {
      "cell_type": "code",
      "execution_count": null,
      "id": "2ed876ea",
      "metadata": {
        "id": "2ed876ea",
        "outputId": "3d8d6553-41c7-40ac-b1bd-709af52f84c1"
      },
      "outputs": [
        {
          "data": {
            "text/html": [
              "<div>\n",
              "<style scoped>\n",
              "    .dataframe tbody tr th:only-of-type {\n",
              "        vertical-align: middle;\n",
              "    }\n",
              "\n",
              "    .dataframe tbody tr th {\n",
              "        vertical-align: top;\n",
              "    }\n",
              "\n",
              "    .dataframe thead th {\n",
              "        text-align: right;\n",
              "    }\n",
              "</style>\n",
              "<table border=\"1\" class=\"dataframe\">\n",
              "  <thead>\n",
              "    <tr style=\"text-align: right;\">\n",
              "      <th></th>\n",
              "      <th>Ekspor</th>\n",
              "      <th>Pendapatan</th>\n",
              "    </tr>\n",
              "  </thead>\n",
              "  <tbody>\n",
              "    <tr>\n",
              "      <th>0</th>\n",
              "      <td>10.0</td>\n",
              "      <td>1610.0</td>\n",
              "    </tr>\n",
              "    <tr>\n",
              "      <th>1</th>\n",
              "      <td>28.0</td>\n",
              "      <td>9930.0</td>\n",
              "    </tr>\n",
              "    <tr>\n",
              "      <th>2</th>\n",
              "      <td>38.4</td>\n",
              "      <td>12900.0</td>\n",
              "    </tr>\n",
              "    <tr>\n",
              "      <th>3</th>\n",
              "      <td>62.3</td>\n",
              "      <td>5900.0</td>\n",
              "    </tr>\n",
              "    <tr>\n",
              "      <th>4</th>\n",
              "      <td>45.5</td>\n",
              "      <td>19100.0</td>\n",
              "    </tr>\n",
              "    <tr>\n",
              "      <th>...</th>\n",
              "      <td>...</td>\n",
              "      <td>...</td>\n",
              "    </tr>\n",
              "    <tr>\n",
              "      <th>161</th>\n",
              "      <td>31.7</td>\n",
              "      <td>4240.0</td>\n",
              "    </tr>\n",
              "    <tr>\n",
              "      <th>162</th>\n",
              "      <td>46.6</td>\n",
              "      <td>2950.0</td>\n",
              "    </tr>\n",
              "    <tr>\n",
              "      <th>164</th>\n",
              "      <td>72.0</td>\n",
              "      <td>4490.0</td>\n",
              "    </tr>\n",
              "    <tr>\n",
              "      <th>165</th>\n",
              "      <td>30.0</td>\n",
              "      <td>4480.0</td>\n",
              "    </tr>\n",
              "    <tr>\n",
              "      <th>166</th>\n",
              "      <td>37.0</td>\n",
              "      <td>3280.0</td>\n",
              "    </tr>\n",
              "  </tbody>\n",
              "</table>\n",
              "<p>128 rows × 2 columns</p>\n",
              "</div>"
            ],
            "text/plain": [
              "     Ekspor  Pendapatan\n",
              "0      10.0      1610.0\n",
              "1      28.0      9930.0\n",
              "2      38.4     12900.0\n",
              "3      62.3      5900.0\n",
              "4      45.5     19100.0\n",
              "..      ...         ...\n",
              "161    31.7      4240.0\n",
              "162    46.6      2950.0\n",
              "164    72.0      4490.0\n",
              "165    30.0      4480.0\n",
              "166    37.0      3280.0\n",
              "\n",
              "[128 rows x 2 columns]"
            ]
          },
          "execution_count": 34,
          "metadata": {},
          "output_type": "execute_result"
        }
      ],
      "source": [
        "df8 = df_outlier_remove.drop(columns=['Negara', 'Kematian_anak', 'Impor', 'Inflasi', 'Harapan_hidup', 'Kesehatan', 'GDPperkapita', 'Jumlah_fertiliti'])\n",
        "\n",
        "df8"
      ]
    },
    {
      "cell_type": "code",
      "execution_count": null,
      "id": "75c112ed",
      "metadata": {
        "id": "75c112ed",
        "outputId": "9ecb2f80-c55c-45db-9df8-09d0c30a895d"
      },
      "outputs": [
        {
          "data": {
            "image/png": "[encoded data removed]",
            "text/plain": [
              "<Figure size 864x576 with 1 Axes>"
            ]
          },
          "metadata": {
            "needs_background": "light"
          },
          "output_type": "display_data"
        }
      ],
      "source": [
        "sc = StandardScaler()\n",
        "dfoutlier_std_8 = sc.fit_transform(df8.astype(float))\n",
        "\n",
        "kmeans8 = KMeans(n_clusters=3, random_state=42,).fit(dfoutlier_std_8)\n",
        "labels8 = kmeans8.labels_\n",
        "\n",
        "new_dfoutlier_std_8 = pd.DataFrame(data = dfoutlier_std_8, columns = ['Pendapatan', 'Ekspor'])\n",
        "new_dfoutlier_std_8['label_kmeans8'] = labels8\n",
        "\n",
        "fig, ax = plt.subplots(figsize=(12,8))\n",
        "\n",
        "plt.scatter(new_dfoutlier_std_8.Pendapatan[new_dfoutlier_std_8.label_kmeans8 == 0], new_dfoutlier_std_8.Ekspor[new_dfoutlier_std_8.label_kmeans8 == 0], c='blue', s=100, edgecolor='green', linestyle='-')\n",
        "plt.scatter(new_dfoutlier_std_8.Pendapatan[new_dfoutlier_std_8.label_kmeans8 == 1], new_dfoutlier_std_8.Ekspor[new_dfoutlier_std_8.label_kmeans8 == 1], c='red', s=100, edgecolor='green', linestyle='-')\n",
        "plt.scatter(new_dfoutlier_std_8.Pendapatan[new_dfoutlier_std_8.label_kmeans8 == 2], new_dfoutlier_std_8.Ekspor[new_dfoutlier_std_8.label_kmeans8 == 2], c='green', s=100, edgecolor='green', linestyle='-')\n",
        "centers = kmeans8.cluster_centers_\n",
        "plt.scatter(centers[:, 0], centers[:, 1], c='black', s=500);\n",
        "plt.xlabel('Pendapatan')\n",
        "plt.ylabel('Ekspor')\n",
        "plt.show()"
      ]
    },
    {
      "cell_type": "markdown",
      "source": [
        "Ringkasan Grafik:\n",
        " - Semakin tinggi nilai ekspor, maka semakin tinggi pendapatan di suatu negara."
      ],
      "metadata": {
        "id": "H_rNxebrZUom"
      },
      "id": "H_rNxebrZUom"
    },
    {
      "cell_type": "code",
      "execution_count": null,
      "id": "09b0867e",
      "metadata": {
        "id": "09b0867e",
        "outputId": "6e097cd8-1b62-4aec-cd6b-1183a0818db5"
      },
      "outputs": [
        {
          "data": {
            "image/png": "[encoded data removed]",
            "text/plain": [
              "<Figure size 864x576 with 1 Axes>"
            ]
          },
          "metadata": {
            "needs_background": "light"
          },
          "output_type": "display_data"
        }
      ],
      "source": [
        "wcss_8 = []\n",
        "for i in range(1, 11):\n",
        "    kmeans8 = KMeans(n_clusters = i,init='k-means++', random_state = 42)\n",
        "    kmeans8.fit(new_dfoutlier_std_8)\n",
        "    wcss_8.append(kmeans8.inertia_)\n",
        "fig, ax = plt.subplots(figsize=(12,8))\n",
        "plt.plot(range(1, 11), wcss_8)\n",
        "plt.title('The Elbow Method')\n",
        "plt.xlabel('Number of clusters')\n",
        "plt.ylabel('WCSS')\n",
        "plt.show()"
      ]
    },
    {
      "cell_type": "code",
      "execution_count": null,
      "id": "d630bff8",
      "metadata": {
        "id": "d630bff8",
        "outputId": "0707e372-bc43-47c1-cf28-d9801b5c771b"
      },
      "outputs": [
        {
          "data": {
            "text/plain": [
              "array([1, 1, 2, 2, 2, 1, 1, 2, 0, 0, 1, 2, 2, 2, 1, 2, 2, 1, 2, 1, 2, 1,\n",
              "       1, 2, 1, 1, 2, 1, 1, 1, 1, 2, 1, 2, 2, 0, 0, 1, 1, 1, 1, 1, 0, 2,\n",
              "       2, 1, 1, 1, 0, 1, 1, 1, 1, 2, 0, 1, 1, 1, 2, 0, 1, 2, 2, 1, 1, 2,\n",
              "       1, 2, 2, 1, 0, 0, 2, 1, 1, 0, 2, 1, 2, 2, 1, 2, 1, 1, 1, 2, 1, 0,\n",
              "       1, 2, 2, 1, 1, 0, 0, 2, 0, 1, 1, 0, 1, 1, 0, 0, 2, 1, 0, 0, 1, 1,\n",
              "       1, 2, 1, 1, 2, 1, 1, 2, 1, 2, 1, 2, 1, 1, 2, 2, 1, 1])"
            ]
          },
          "execution_count": 37,
          "metadata": {},
          "output_type": "execute_result"
        }
      ],
      "source": [
        "kmeans8_2 = KMeans(n_clusters=3, init='k-means++', random_state=42).fit(dfoutlier_std_8)\n",
        "\n",
        "kmeans8_2.labels_"
      ]
    },
    {
      "cell_type": "markdown",
      "source": [
        "# Grafik 2 Hubungan antara Nilai Pendapatan terhadap Angka Kematian Anak\n"
      ],
      "metadata": {
        "id": "DC-fU2oLVYfS"
      },
      "id": "DC-fU2oLVYfS"
    },
    {
      "cell_type": "code",
      "execution_count": null,
      "id": "f81622e7",
      "metadata": {
        "id": "f81622e7",
        "outputId": "6f6d057a-14b3-406b-f22c-ce02bfa05b46"
      },
      "outputs": [
        {
          "data": {
            "text/html": [
              "<div>\n",
              "<style scoped>\n",
              "    .dataframe tbody tr th:only-of-type {\n",
              "        vertical-align: middle;\n",
              "    }\n",
              "\n",
              "    .dataframe tbody tr th {\n",
              "        vertical-align: top;\n",
              "    }\n",
              "\n",
              "    .dataframe thead th {\n",
              "        text-align: right;\n",
              "    }\n",
              "</style>\n",
              "<table border=\"1\" class=\"dataframe\">\n",
              "  <thead>\n",
              "    <tr style=\"text-align: right;\">\n",
              "      <th></th>\n",
              "      <th>Kematian_anak</th>\n",
              "      <th>Pendapatan</th>\n",
              "    </tr>\n",
              "  </thead>\n",
              "  <tbody>\n",
              "    <tr>\n",
              "      <th>0</th>\n",
              "      <td>90.2</td>\n",
              "      <td>1610.0</td>\n",
              "    </tr>\n",
              "    <tr>\n",
              "      <th>1</th>\n",
              "      <td>16.6</td>\n",
              "      <td>9930.0</td>\n",
              "    </tr>\n",
              "    <tr>\n",
              "      <th>2</th>\n",
              "      <td>27.3</td>\n",
              "      <td>12900.0</td>\n",
              "    </tr>\n",
              "    <tr>\n",
              "      <th>3</th>\n",
              "      <td>119.0</td>\n",
              "      <td>5900.0</td>\n",
              "    </tr>\n",
              "    <tr>\n",
              "      <th>4</th>\n",
              "      <td>10.3</td>\n",
              "      <td>19100.0</td>\n",
              "    </tr>\n",
              "    <tr>\n",
              "      <th>...</th>\n",
              "      <td>...</td>\n",
              "      <td>...</td>\n",
              "    </tr>\n",
              "    <tr>\n",
              "      <th>161</th>\n",
              "      <td>36.3</td>\n",
              "      <td>4240.0</td>\n",
              "    </tr>\n",
              "    <tr>\n",
              "      <th>162</th>\n",
              "      <td>29.2</td>\n",
              "      <td>2950.0</td>\n",
              "    </tr>\n",
              "    <tr>\n",
              "      <th>164</th>\n",
              "      <td>23.3</td>\n",
              "      <td>4490.0</td>\n",
              "    </tr>\n",
              "    <tr>\n",
              "      <th>165</th>\n",
              "      <td>56.3</td>\n",
              "      <td>4480.0</td>\n",
              "    </tr>\n",
              "    <tr>\n",
              "      <th>166</th>\n",
              "      <td>83.1</td>\n",
              "      <td>3280.0</td>\n",
              "    </tr>\n",
              "  </tbody>\n",
              "</table>\n",
              "<p>128 rows × 2 columns</p>\n",
              "</div>"
            ],
            "text/plain": [
              "     Kematian_anak  Pendapatan\n",
              "0             90.2      1610.0\n",
              "1             16.6      9930.0\n",
              "2             27.3     12900.0\n",
              "3            119.0      5900.0\n",
              "4             10.3     19100.0\n",
              "..             ...         ...\n",
              "161           36.3      4240.0\n",
              "162           29.2      2950.0\n",
              "164           23.3      4490.0\n",
              "165           56.3      4480.0\n",
              "166           83.1      3280.0\n",
              "\n",
              "[128 rows x 2 columns]"
            ]
          },
          "execution_count": 42,
          "metadata": {},
          "output_type": "execute_result"
        }
      ],
      "source": [
        "df10 = df_outlier_remove.drop(columns=['Negara', 'Impor', 'Ekspor', 'Inflasi', 'Harapan_hidup', 'Kesehatan', 'GDPperkapita', 'Jumlah_fertiliti'])\n",
        "\n",
        "df10"
      ]
    },
    {
      "cell_type": "code",
      "execution_count": null,
      "id": "6e248c4c",
      "metadata": {
        "id": "6e248c4c",
        "outputId": "d0c1ce92-86da-48d8-ac75-649dd50582a6"
      },
      "outputs": [
        {
          "data": {
            "image/png": "[encoded data removed]",
            "text/plain": [
              "<Figure size 864x576 with 1 Axes>"
            ]
          },
          "metadata": {
            "needs_background": "light"
          },
          "output_type": "display_data"
        }
      ],
      "source": [
        "dfoutlier_std_10 = sc.fit_transform(df10.astype(float))\n",
        "\n",
        "kmeans10 = KMeans(n_clusters=3, random_state=42,).fit(dfoutlier_std_10)\n",
        "labels10 = kmeans10.labels_\n",
        "\n",
        "new_dfoutlier_std_10 = pd.DataFrame(data = dfoutlier_std_10, columns = ['Pendapatan', 'Kematian_anak'])\n",
        "new_dfoutlier_std_10['label_kmeans10'] = labels10\n",
        "\n",
        "fig, ax = plt.subplots(figsize=(12,8))\n",
        "\n",
        "plt.scatter(new_dfoutlier_std_10.Pendapatan[new_dfoutlier_std_10.label_kmeans10 == 0], new_dfoutlier_std_10.Kematian_anak[new_dfoutlier_std_10.label_kmeans10 == 0], c='blue', s=100, edgecolor='green', linestyle='-')\n",
        "plt.scatter(new_dfoutlier_std_10.Pendapatan[new_dfoutlier_std_10.label_kmeans10 == 1], new_dfoutlier_std_10.Kematian_anak[new_dfoutlier_std_10.label_kmeans10 == 1], c='red', s=100, edgecolor='green', linestyle='-')\n",
        "plt.scatter(new_dfoutlier_std_10.Pendapatan[new_dfoutlier_std_10.label_kmeans10 == 2], new_dfoutlier_std_10.Kematian_anak[new_dfoutlier_std_10.label_kmeans10 == 2], c='green', s=100, edgecolor='green', linestyle='-')\n",
        "centers = kmeans10.cluster_centers_\n",
        "plt.scatter(centers[:, 0], centers[:, 1], c='black', s=500);\n",
        "plt.xlabel('Pendapatan')\n",
        "plt.ylabel('Kematian Anak')\n",
        "plt.show()"
      ]
    },
    {
      "cell_type": "markdown",
      "source": [
        "Ringkasan Grafik:\n",
        " - Semakin tinggi nilai pendapatan, maka semakin rendah angka kematian anak di suatu negara."
      ],
      "metadata": {
        "id": "BEAxxVLvZ-EN"
      },
      "id": "BEAxxVLvZ-EN"
    },
    {
      "cell_type": "code",
      "execution_count": null,
      "id": "e0b51a2f",
      "metadata": {
        "id": "e0b51a2f",
        "outputId": "da4e123a-4640-43a2-d951-b2ca92af749f"
      },
      "outputs": [
        {
          "data": {
            "image/png": "[encoded data removed]",
            "text/plain": [
              "<Figure size 864x576 with 1 Axes>"
            ]
          },
          "metadata": {
            "needs_background": "light"
          },
          "output_type": "display_data"
        }
      ],
      "source": [
        "wcss_10 = []\n",
        "for i in range(1, 11):\n",
        "    kmeans10 = KMeans(n_clusters = i,init='k-means++', random_state = 42)\n",
        "    kmeans10.fit(new_dfoutlier_std_10)\n",
        "    wcss_10.append(kmeans10.inertia_)\n",
        "fig, ax = plt.subplots(figsize=(12,8))\n",
        "plt.plot(range(1, 11), wcss_10)\n",
        "plt.title('The Elbow Method')\n",
        "plt.xlabel('Number of clusters')\n",
        "plt.ylabel('WCSS')\n",
        "plt.show()"
      ]
    },
    {
      "cell_type": "code",
      "execution_count": null,
      "id": "5df54a00",
      "metadata": {
        "id": "5df54a00",
        "outputId": "e6c9d6a7-a825-4ce7-dcbb-bde680748a09"
      },
      "outputs": [
        {
          "data": {
            "text/plain": [
              "array([0, 1, 1, 0, 2, 2, 1, 1, 2, 2, 0, 1, 1, 1, 0, 1, 1, 1, 1, 1, 1, 0,\n",
              "       0, 1, 0, 1, 2, 1, 1, 0, 0, 0, 1, 0, 2, 2, 2, 1, 1, 1, 1, 0, 2, 1,\n",
              "       1, 0, 1, 0, 2, 1, 1, 0, 0, 1, 2, 0, 1, 1, 1, 2, 1, 1, 2, 0, 0, 1,\n",
              "       0, 2, 1, 0, 2, 2, 1, 0, 0, 2, 1, 0, 0, 1, 1, 1, 1, 0, 0, 1, 1, 2,\n",
              "       0, 1, 1, 1, 1, 2, 2, 1, 2, 0, 1, 2, 0, 1, 2, 2, 1, 1, 2, 2, 1, 1,\n",
              "       0, 1, 0, 0, 1, 0, 1, 1, 1, 0, 0, 1, 1, 1, 1, 1, 0, 0])"
            ]
          },
          "execution_count": 46,
          "metadata": {},
          "output_type": "execute_result"
        }
      ],
      "source": [
        "kmeans10_2 = KMeans(n_clusters=3, init='k-means++', random_state=42).fit(dfoutlier_std_10)\n",
        "\n",
        "kmeans10_2.labels_"
      ]
    },
    {
      "cell_type": "markdown",
      "source": [
        "# KESIMPULAN"
      ],
      "metadata": {
        "id": "2yIh13eLLJix"
      },
      "id": "2yIh13eLLJix"
    },
    {
      "cell_type": "markdown",
      "source": [
        "LSM CEO sebaiknya memprioritaskan membagikan dananya terhadap negara-negara yang memiliki ciri-ciri berdasarkan prioritas urutannya sebagai berikut:\n",
        "1. Pendapatan yang rendah\n",
        "2. Angka Kematian Anak yang tinggi\n",
        "3. Ekspor yang rendah\n",
        "\n",
        "Karena pendapatan negara adalah sebuah penghasilan negara yang bisa digunakan\n",
        "untuk memenuhi kebutuhan pokok masyarakat yang bisa meningkatkan kesejahteraan\n",
        "masyarakat. Selain itu, angka kematian anak juga perlu diperhatikan karena angka kematian yang tinggi akan berpotensi kurangnya sumber daya manusia untuk berkontribusi meningkatkan pendapatan negara, khususnya di sektor eksportir karena angka ekspor di sini juga berperan meningkatkan pendapatan negara."
      ],
      "metadata": {
        "id": "WMUeCBvETeGR"
      },
      "id": "WMUeCBvETeGR"
    }
  ],
  "metadata": {
    "kernelspec": {
      "display_name": "Python 3 (ipykernel)",
      "language": "python",
      "name": "python3"
    },
    "language_info": {
      "codemirror_mode": {
        "name": "ipython",
        "version": 3
      },
      "file_extension": ".py",
      "mimetype": "text/x-python",
      "name": "python",
      "nbconvert_exporter": "python",
      "pygments_lexer": "ipython3",
      "version": "3.9.12"
    },
    "colab": {
      "provenance": []
    }
  },
  "nbformat": 4,
  "nbformat_minor": 5
}